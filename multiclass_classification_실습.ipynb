{
  "cells": [
    {
      "cell_type": "code",
      "execution_count": null,
      "metadata": {
        "colab": {
          "base_uri": "https://localhost:8080/"
        },
        "id": "kyo245gs4X0J",
        "outputId": "5adb1554-0c64-4491-c5a5-f31145aa6bcd"
      },
      "outputs": [
        {
          "output_type": "stream",
          "name": "stdout",
          "text": [
            "Mounted at /content/drive\n"
          ]
        }
      ],
      "source": [
        "from google.colab import drive\n",
        "drive.mount('/content/drive')"
      ]
    },
    {
      "cell_type": "code",
      "execution_count": null,
      "metadata": {
        "id": "QQdMG2IiE7d6"
      },
      "outputs": [],
      "source": [
        "import torch\n",
        "from torchvision import datasets, transforms\n",
        "import matplotlib.pyplot as plt"
      ]
    },
    {
      "cell_type": "markdown",
      "metadata": {
        "id": "SuFkDgqm4xQP"
      },
      "source": [
        "## 구글 드라이브와 연동"
      ]
    },
    {
      "cell_type": "code",
      "execution_count": null,
      "metadata": {
        "id": "V3tYf4Pa4tXq"
      },
      "outputs": [],
      "source": []
    },
    {
      "cell_type": "code",
      "execution_count": null,
      "metadata": {
        "id": "TkeVFwdW5Jno"
      },
      "outputs": [],
      "source": [
        "DEVICE = \"cuda\" if torch.cuda.is_available() else \"cpu\""
      ]
    },
    {
      "cell_type": "code",
      "execution_count": null,
      "metadata": {
        "colab": {
          "base_uri": "https://localhost:8080/"
        },
        "id": "MEwRXjma5u7k",
        "outputId": "6bec71df-10c4-4200-d98a-79d0c648648c"
      },
      "outputs": [
        {
          "output_type": "stream",
          "name": "stdout",
          "text": [
            "cuda\n"
          ]
        }
      ],
      "source": [
        "print(DEVICE)"
      ]
    },
    {
      "cell_type": "code",
      "execution_count": null,
      "metadata": {
        "id": "k24HfUb45_l5"
      },
      "outputs": [],
      "source": [
        "transform = transforms.ToTensor()\n",
        "train_DS = datasets.MNIST(root = '/content/drive/MyDrive/Colab Notebooks/data', train=True, download=True, transform=transform)\n",
        "test_DS = datasets.MNIST(root = '/content/drive/MyDrive/Colab Notebooks/data', train=False, download=True, transform=transform)"
      ]
    },
    {
      "cell_type": "code",
      "execution_count": null,
      "metadata": {
        "colab": {
          "base_uri": "https://localhost:8080/"
        },
        "id": "HUkVD6qF6RY5",
        "outputId": "ba5b85f6-3f89-4ea5-ded5-76eac0302870"
      },
      "outputs": [
        {
          "output_type": "stream",
          "name": "stdout",
          "text": [
            "Dataset MNIST\n",
            "    Number of datapoints: 60000\n",
            "    Root location: /content/drive/MyDrive/Colab Notebooks/data\n",
            "    Split: Train\n",
            "    StandardTransform\n",
            "Transform: ToTensor()\n",
            "Dataset MNIST\n",
            "    Number of datapoints: 10000\n",
            "    Root location: /content/drive/MyDrive/Colab Notebooks/data\n",
            "    Split: Test\n",
            "    StandardTransform\n",
            "Transform: ToTensor()\n",
            "60000\n",
            "10000\n"
          ]
        }
      ],
      "source": [
        "print(train_DS)\n",
        "print(test_DS)\n",
        "print(len(train_DS))\n",
        "print(len(test_DS))"
      ]
    },
    {
      "cell_type": "code",
      "execution_count": null,
      "metadata": {
        "colab": {
          "base_uri": "https://localhost:8080/"
        },
        "id": "hsAPPLrO_uwd",
        "outputId": "35742ca4-855b-4a61-f839-c2d363c1115e"
      },
      "outputs": [
        {
          "output_type": "execute_result",
          "data": {
            "text/plain": [
              "['0 - zero',\n",
              " '1 - one',\n",
              " '2 - two',\n",
              " '3 - three',\n",
              " '4 - four',\n",
              " '5 - five',\n",
              " '6 - six',\n",
              " '7 - seven',\n",
              " '8 - eight',\n",
              " '9 - nine']"
            ]
          },
          "metadata": {},
          "execution_count": 7
        }
      ],
      "source": [
        "train_DS.classes"
      ]
    },
    {
      "cell_type": "code",
      "execution_count": null,
      "metadata": {
        "colab": {
          "base_uri": "https://localhost:8080/"
        },
        "id": "wTvo5UTRAop9",
        "outputId": "c8b3b738-25d8-4d75-884a-1863c9c56764"
      },
      "outputs": [
        {
          "output_type": "execute_result",
          "data": {
            "text/plain": [
              "{'0 - zero': 0,\n",
              " '1 - one': 1,\n",
              " '2 - two': 2,\n",
              " '3 - three': 3,\n",
              " '4 - four': 4,\n",
              " '5 - five': 5,\n",
              " '6 - six': 6,\n",
              " '7 - seven': 7,\n",
              " '8 - eight': 8,\n",
              " '9 - nine': 9}"
            ]
          },
          "metadata": {},
          "execution_count": 8
        }
      ],
      "source": [
        "train_DS.class_to_idx"
      ]
    },
    {
      "cell_type": "code",
      "execution_count": null,
      "metadata": {
        "colab": {
          "base_uri": "https://localhost:8080/"
        },
        "id": "mTFYt1gbAqUO",
        "outputId": "88596b64-ce5b-4b06-b459-23e860a35341"
      },
      "outputs": [
        {
          "output_type": "execute_result",
          "data": {
            "text/plain": [
              "torch.Size([60000, 28, 28])"
            ]
          },
          "metadata": {},
          "execution_count": 9
        }
      ],
      "source": [
        "train_DS.data.shape"
      ]
    },
    {
      "cell_type": "code",
      "execution_count": null,
      "metadata": {
        "colab": {
          "base_uri": "https://localhost:8080/"
        },
        "id": "JtTWRjjgAzGJ",
        "outputId": "f07e24c0-56cf-4111-af0c-80a0b70141ca"
      },
      "outputs": [
        {
          "output_type": "execute_result",
          "data": {
            "text/plain": [
              "tensor([[  0,   0,   0,   0,   0,   0,   0,   0,   0,   0,   0,   0,   0,   0,\n",
              "           0,   0,   0,   0,   0,   0,   0,   0,   0,   0,   0,   0,   0,   0],\n",
              "        [  0,   0,   0,   0,   0,   0,   0,   0,   0,   0,   0,   0,   0,   0,\n",
              "           0,   0,   0,   0,   0,   0,   0,   0,   0,   0,   0,   0,   0,   0],\n",
              "        [  0,   0,   0,   0,   0,   0,   0,   0,   0,   0,   0,   0,   0,   0,\n",
              "           0,   0,   0,   0,   0,   0,   0,   0,   0,   0,   0,   0,   0,   0],\n",
              "        [  0,   0,   0,   0,   0,   0,   0,   0,   0,   0,   0,   0,   0,   0,\n",
              "           0,   0,   0,   0,   0,   0,   0,   0,   0,   0,   0,   0,   0,   0],\n",
              "        [  0,   0,   0,   0,   0,   0,   0,   0,   0,   0,   0,   0,   0,   0,\n",
              "           0,   0,   0,   0,   0,   0,   0,   0,   0,   0,   0,   0,   0,   0],\n",
              "        [  0,   0,   0,   0,   0,   0,   0,   0,   0,   0,   0,   0,   3,  18,\n",
              "          18,  18, 126, 136, 175,  26, 166, 255, 247, 127,   0,   0,   0,   0],\n",
              "        [  0,   0,   0,   0,   0,   0,   0,   0,  30,  36,  94, 154, 170, 253,\n",
              "         253, 253, 253, 253, 225, 172, 253, 242, 195,  64,   0,   0,   0,   0],\n",
              "        [  0,   0,   0,   0,   0,   0,   0,  49, 238, 253, 253, 253, 253, 253,\n",
              "         253, 253, 253, 251,  93,  82,  82,  56,  39,   0,   0,   0,   0,   0],\n",
              "        [  0,   0,   0,   0,   0,   0,   0,  18, 219, 253, 253, 253, 253, 253,\n",
              "         198, 182, 247, 241,   0,   0,   0,   0,   0,   0,   0,   0,   0,   0],\n",
              "        [  0,   0,   0,   0,   0,   0,   0,   0,  80, 156, 107, 253, 253, 205,\n",
              "          11,   0,  43, 154,   0,   0,   0,   0,   0,   0,   0,   0,   0,   0],\n",
              "        [  0,   0,   0,   0,   0,   0,   0,   0,   0,  14,   1, 154, 253,  90,\n",
              "           0,   0,   0,   0,   0,   0,   0,   0,   0,   0,   0,   0,   0,   0],\n",
              "        [  0,   0,   0,   0,   0,   0,   0,   0,   0,   0,   0, 139, 253, 190,\n",
              "           2,   0,   0,   0,   0,   0,   0,   0,   0,   0,   0,   0,   0,   0],\n",
              "        [  0,   0,   0,   0,   0,   0,   0,   0,   0,   0,   0,  11, 190, 253,\n",
              "          70,   0,   0,   0,   0,   0,   0,   0,   0,   0,   0,   0,   0,   0],\n",
              "        [  0,   0,   0,   0,   0,   0,   0,   0,   0,   0,   0,   0,  35, 241,\n",
              "         225, 160, 108,   1,   0,   0,   0,   0,   0,   0,   0,   0,   0,   0],\n",
              "        [  0,   0,   0,   0,   0,   0,   0,   0,   0,   0,   0,   0,   0,  81,\n",
              "         240, 253, 253, 119,  25,   0,   0,   0,   0,   0,   0,   0,   0,   0],\n",
              "        [  0,   0,   0,   0,   0,   0,   0,   0,   0,   0,   0,   0,   0,   0,\n",
              "          45, 186, 253, 253, 150,  27,   0,   0,   0,   0,   0,   0,   0,   0],\n",
              "        [  0,   0,   0,   0,   0,   0,   0,   0,   0,   0,   0,   0,   0,   0,\n",
              "           0,  16,  93, 252, 253, 187,   0,   0,   0,   0,   0,   0,   0,   0],\n",
              "        [  0,   0,   0,   0,   0,   0,   0,   0,   0,   0,   0,   0,   0,   0,\n",
              "           0,   0,   0, 249, 253, 249,  64,   0,   0,   0,   0,   0,   0,   0],\n",
              "        [  0,   0,   0,   0,   0,   0,   0,   0,   0,   0,   0,   0,   0,   0,\n",
              "          46, 130, 183, 253, 253, 207,   2,   0,   0,   0,   0,   0,   0,   0],\n",
              "        [  0,   0,   0,   0,   0,   0,   0,   0,   0,   0,   0,   0,  39, 148,\n",
              "         229, 253, 253, 253, 250, 182,   0,   0,   0,   0,   0,   0,   0,   0],\n",
              "        [  0,   0,   0,   0,   0,   0,   0,   0,   0,   0,  24, 114, 221, 253,\n",
              "         253, 253, 253, 201,  78,   0,   0,   0,   0,   0,   0,   0,   0,   0],\n",
              "        [  0,   0,   0,   0,   0,   0,   0,   0,  23,  66, 213, 253, 253, 253,\n",
              "         253, 198,  81,   2,   0,   0,   0,   0,   0,   0,   0,   0,   0,   0],\n",
              "        [  0,   0,   0,   0,   0,   0,  18, 171, 219, 253, 253, 253, 253, 195,\n",
              "          80,   9,   0,   0,   0,   0,   0,   0,   0,   0,   0,   0,   0,   0],\n",
              "        [  0,   0,   0,   0,  55, 172, 226, 253, 253, 253, 253, 244, 133,  11,\n",
              "           0,   0,   0,   0,   0,   0,   0,   0,   0,   0,   0,   0,   0,   0],\n",
              "        [  0,   0,   0,   0, 136, 253, 253, 253, 212, 135, 132,  16,   0,   0,\n",
              "           0,   0,   0,   0,   0,   0,   0,   0,   0,   0,   0,   0,   0,   0],\n",
              "        [  0,   0,   0,   0,   0,   0,   0,   0,   0,   0,   0,   0,   0,   0,\n",
              "           0,   0,   0,   0,   0,   0,   0,   0,   0,   0,   0,   0,   0,   0],\n",
              "        [  0,   0,   0,   0,   0,   0,   0,   0,   0,   0,   0,   0,   0,   0,\n",
              "           0,   0,   0,   0,   0,   0,   0,   0,   0,   0,   0,   0,   0,   0],\n",
              "        [  0,   0,   0,   0,   0,   0,   0,   0,   0,   0,   0,   0,   0,   0,\n",
              "           0,   0,   0,   0,   0,   0,   0,   0,   0,   0,   0,   0,   0,   0]],\n",
              "       dtype=torch.uint8)"
            ]
          },
          "metadata": {},
          "execution_count": 10
        }
      ],
      "source": [
        "train_DS.data[0]"
      ]
    },
    {
      "cell_type": "code",
      "execution_count": null,
      "metadata": {
        "colab": {
          "base_uri": "https://localhost:8080/",
          "height": 448
        },
        "id": "bw9JnMVIA5ld",
        "outputId": "695d433c-7edc-47c4-8f38-7b2f1398a377"
      },
      "outputs": [
        {
          "output_type": "execute_result",
          "data": {
            "text/plain": [
              "<matplotlib.colorbar.Colorbar at 0x7b24212aead0>"
            ]
          },
          "metadata": {},
          "execution_count": 11
        },
        {
          "output_type": "display_data",
          "data": {
            "text/plain": [
              "<Figure size 640x480 with 2 Axes>"
            ],
            "image/png": "[encoded data removed]"
          },
          "metadata": {}
        }
      ],
      "source": [
        "plt.imshow(train_DS.data[2], cmap='gray')\n",
        "plt.colorbar()"
      ]
    },
    {
      "cell_type": "code",
      "execution_count": null,
      "metadata": {
        "colab": {
          "base_uri": "https://localhost:8080/"
        },
        "id": "kvfwjxCKBEYc",
        "outputId": "df888c9c-bcb2-4c4b-9f34-7b970c28e5c3"
      },
      "outputs": [
        {
          "output_type": "stream",
          "name": "stdout",
          "text": [
            "tensor([5, 0, 4,  ..., 5, 6, 8])\n",
            "torch.Size([60000])\n"
          ]
        }
      ],
      "source": [
        "print(train_DS.targets)\n",
        "print(train_DS.targets.shape)"
      ]
    },
    {
      "cell_type": "code",
      "execution_count": null,
      "metadata": {
        "colab": {
          "base_uri": "https://localhost:8080/"
        },
        "id": "h9TuHEbnBRC4",
        "outputId": "a1a9d559-5b58-460c-c5c2-f7455cdaa24f"
      },
      "outputs": [
        {
          "output_type": "stream",
          "name": "stdout",
          "text": [
            "tensor([[[0, 0, 0,  ..., 0, 0, 0],\n",
            "         [0, 0, 0,  ..., 0, 0, 0],\n",
            "         [0, 0, 0,  ..., 0, 0, 0],\n",
            "         ...,\n",
            "         [0, 0, 0,  ..., 0, 0, 0],\n",
            "         [0, 0, 0,  ..., 0, 0, 0],\n",
            "         [0, 0, 0,  ..., 0, 0, 0]],\n",
            "\n",
            "        [[0, 0, 0,  ..., 0, 0, 0],\n",
            "         [0, 0, 0,  ..., 0, 0, 0],\n",
            "         [0, 0, 0,  ..., 0, 0, 0],\n",
            "         ...,\n",
            "         [0, 0, 0,  ..., 0, 0, 0],\n",
            "         [0, 0, 0,  ..., 0, 0, 0],\n",
            "         [0, 0, 0,  ..., 0, 0, 0]],\n",
            "\n",
            "        [[0, 0, 0,  ..., 0, 0, 0],\n",
            "         [0, 0, 0,  ..., 0, 0, 0],\n",
            "         [0, 0, 0,  ..., 0, 0, 0],\n",
            "         ...,\n",
            "         [0, 0, 0,  ..., 0, 0, 0],\n",
            "         [0, 0, 0,  ..., 0, 0, 0],\n",
            "         [0, 0, 0,  ..., 0, 0, 0]],\n",
            "\n",
            "        ...,\n",
            "\n",
            "        [[0, 0, 0,  ..., 0, 0, 0],\n",
            "         [0, 0, 0,  ..., 0, 0, 0],\n",
            "         [0, 0, 0,  ..., 0, 0, 0],\n",
            "         ...,\n",
            "         [0, 0, 0,  ..., 0, 0, 0],\n",
            "         [0, 0, 0,  ..., 0, 0, 0],\n",
            "         [0, 0, 0,  ..., 0, 0, 0]],\n",
            "\n",
            "        [[0, 0, 0,  ..., 0, 0, 0],\n",
            "         [0, 0, 0,  ..., 0, 0, 0],\n",
            "         [0, 0, 0,  ..., 0, 0, 0],\n",
            "         ...,\n",
            "         [0, 0, 0,  ..., 0, 0, 0],\n",
            "         [0, 0, 0,  ..., 0, 0, 0],\n",
            "         [0, 0, 0,  ..., 0, 0, 0]],\n",
            "\n",
            "        [[0, 0, 0,  ..., 0, 0, 0],\n",
            "         [0, 0, 0,  ..., 0, 0, 0],\n",
            "         [0, 0, 0,  ..., 0, 0, 0],\n",
            "         ...,\n",
            "         [0, 0, 0,  ..., 0, 0, 0],\n",
            "         [0, 0, 0,  ..., 0, 0, 0],\n",
            "         [0, 0, 0,  ..., 0, 0, 0]]], dtype=torch.uint8)\n"
          ]
        }
      ],
      "source": [
        "print(train_DS.data)"
      ]
    },
    {
      "cell_type": "code",
      "execution_count": null,
      "metadata": {
        "id": "JBBKjA1WBcgW"
      },
      "outputs": [],
      "source": []
    },
    {
      "cell_type": "markdown",
      "metadata": {
        "id": "iaGC4M9uBmF7"
      },
      "source": [
        "### DataLoader 구경"
      ]
    },
    {
      "cell_type": "code",
      "execution_count": null,
      "metadata": {
        "id": "9ugkppUeBo1Y"
      },
      "outputs": [],
      "source": [
        "BATCH_SIZE = 32\n",
        "train_DL = torch.utils.data.DataLoader(train_DS, batch_size=BATCH_SIZE, shuffle=True)\n",
        "test_DL = torch.utils.data.DataLoader(test_DS, batch_size=BATCH_SIZE, shuffle=True)"
      ]
    },
    {
      "cell_type": "code",
      "execution_count": null,
      "metadata": {
        "colab": {
          "base_uri": "https://localhost:8080/"
        },
        "id": "NtaLJ9aRBuJ9",
        "outputId": "6fe774a0-15e0-462b-9fca-c16bd610aee1"
      },
      "outputs": [
        {
          "output_type": "stream",
          "name": "stdout",
          "text": [
            "Dataset MNIST\n",
            "    Number of datapoints: 60000\n",
            "    Root location: /content/drive/MyDrive/Colab Notebooks/data\n",
            "    Split: Train\n",
            "    StandardTransform\n",
            "Transform: ToTensor()\n"
          ]
        }
      ],
      "source": [
        "print(train_DL.dataset)"
      ]
    },
    {
      "cell_type": "code",
      "execution_count": null,
      "metadata": {
        "colab": {
          "base_uri": "https://localhost:8080/"
        },
        "id": "CRKRd2dDCZSz",
        "outputId": "39306a8a-5829-4466-cac6-1b2f31c97945"
      },
      "outputs": [
        {
          "output_type": "stream",
          "name": "stdout",
          "text": [
            "60000\n"
          ]
        }
      ],
      "source": [
        "print(len(train_DL.dataset))"
      ]
    },
    {
      "cell_type": "code",
      "execution_count": null,
      "metadata": {
        "id": "hLpoWRjWCqb1"
      },
      "outputs": [],
      "source": [
        "x_batch, y_batch = next(iter(train_DL)) # 데이터 한국자"
      ]
    },
    {
      "cell_type": "code",
      "execution_count": null,
      "metadata": {
        "colab": {
          "base_uri": "https://localhost:8080/"
        },
        "id": "fk5n7wtGCxyG",
        "outputId": "fcce2c47-3d6b-4d15-eb7f-7c301370b75b"
      },
      "outputs": [
        {
          "output_type": "stream",
          "name": "stdout",
          "text": [
            "<class 'torch.Tensor'>\n",
            "<class 'torch.Tensor'>\n",
            "torch.Size([32, 1, 28, 28])\n",
            "torch.Size([32])\n"
          ]
        }
      ],
      "source": [
        "print(type(train_DS.data))\n",
        "print(type(x_batch))\n",
        "print(x_batch.shape)\n",
        "print(y_batch.shape)"
      ]
    },
    {
      "cell_type": "code",
      "execution_count": null,
      "metadata": {
        "colab": {
          "base_uri": "https://localhost:8080/",
          "height": 453
        },
        "id": "YH3in2ThC5O7",
        "outputId": "717cfc45-bb12-4046-cdce-facc7e0e2e22"
      },
      "outputs": [
        {
          "output_type": "execute_result",
          "data": {
            "text/plain": [
              "<matplotlib.colorbar.Colorbar at 0x7b24212685e0>"
            ]
          },
          "metadata": {},
          "execution_count": 19
        },
        {
          "output_type": "display_data",
          "data": {
            "text/plain": [
              "<Figure size 640x480 with 2 Axes>"
            ],
            "image/png": "[encoded data removed]"
          },
          "metadata": {}
        }
      ],
      "source": [
        "plt.imshow(x_batch[0].squeeze(), cmap='gray')\n",
        "plt.colorbar()"
      ]
    },
    {
      "cell_type": "code",
      "execution_count": null,
      "metadata": {
        "id": "xv54ODMfDke8"
      },
      "outputs": [],
      "source": [
        "from torch import nn\n",
        "\n",
        "class MLP(nn.Module):\n",
        "    def __init__(self):\n",
        "        super().__init__()\n",
        "\n",
        "        self.linear = nn.Sequential(nn.Linear(28*28, 100),\n",
        "                                    nn.GELU(),\n",
        "                                    nn.Linear(100,10))\n",
        "    def forward(self, x):\n",
        "        x = torch.flatten(x, start_dim = 1)\n",
        "        x = self.linear(x)\n",
        "        return x"
      ]
    },
    {
      "cell_type": "code",
      "execution_count": null,
      "metadata": {
        "colab": {
          "base_uri": "https://localhost:8080/"
        },
        "id": "yiM5QJFpKHcG",
        "outputId": "e012e335-148f-4ee9-93f0-14b55734f479"
      },
      "outputs": [
        {
          "output_type": "stream",
          "name": "stdout",
          "text": [
            "torch.Size([32, 1, 28, 28])\n",
            "torch.Size([32, 784])\n"
          ]
        }
      ],
      "source": [
        "# flatten 확인\n",
        "x_batch, _ = next(iter(train_DL))\n",
        "print(x_batch.shape)\n",
        "flat_images = torch.flatten(x_batch, start_dim = 1)\n",
        "print(flat_images.shape)"
      ]
    },
    {
      "cell_type": "code",
      "execution_count": null,
      "metadata": {
        "colab": {
          "base_uri": "https://localhost:8080/"
        },
        "id": "PIw_eL5yI-JC",
        "outputId": "cfad9455-f105-4451-ac49-83da8336bffc"
      },
      "outputs": [
        {
          "output_type": "stream",
          "name": "stdout",
          "text": [
            "MLP(\n",
            "  (linear): Sequential(\n",
            "    (0): Linear(in_features=784, out_features=100, bias=True)\n",
            "    (1): GELU(approximate='none')\n",
            "    (2): Linear(in_features=100, out_features=10, bias=True)\n",
            "  )\n",
            ")\n"
          ]
        }
      ],
      "source": [
        "model = MLP()\n",
        "print(model)"
      ]
    },
    {
      "cell_type": "code",
      "execution_count": null,
      "metadata": {
        "colab": {
          "base_uri": "https://localhost:8080/"
        },
        "id": "JE9dW2p1JS0V",
        "outputId": "13773806-d944-4d29-e8c0-f44271ded66a"
      },
      "outputs": [
        {
          "output_type": "stream",
          "name": "stdout",
          "text": [
            "torch.Size([32, 10])\n"
          ]
        }
      ],
      "source": [
        "x_batch, _ = next(iter(train_DL))\n",
        "print(model(x_batch).shape)"
      ]
    },
    {
      "cell_type": "code",
      "execution_count": null,
      "metadata": {
        "id": "3U8KBFhZMbZL"
      },
      "outputs": [],
      "source": [
        "from torch import optim\n",
        "\n",
        "LR = 1e-3\n",
        "EPOCH = 10\n",
        "criterion = nn.CrossEntropyLoss()\n",
        "\n",
        "\n",
        "def Train(model, train_DL, criterion, optimizer):\n",
        "    loss_history =[]\n",
        "    NoT = len(train_DL.dataset)\n",
        "\n",
        "    model.train() # train mode로 전환\n",
        "    for ep in range(EPOCH):\n",
        "        rloss = 0\n",
        "        for x_batch, y_batch in train_DL:\n",
        "            x_batch = x_batch.to(DEVICE)\n",
        "            y_batch = y_batch.to(DEVICE)\n",
        "            # inference}\n",
        "            y_hat = model(x_batch)\n",
        "            # loss\n",
        "            loss = criterion(y_hat, y_batch)\n",
        "            # update\n",
        "            optimizer.zero_grad() # gradient 누적을 막기 위한 초기화\n",
        "            loss.backward() # backpropagation\n",
        "            optimizer.step() # weight update\n",
        "            # loss accumulation\n",
        "            loss_b = loss.item() * x_batch.shape[0]\n",
        "            rloss += loss_b\n",
        "        # print loss\n",
        "        loss_e = rloss/NoT\n",
        "        loss_history += [loss_e]\n",
        "        print(f\"Epoch: {ep+1}, train loss: {round(loss_e,3)}\")\n",
        "        print(\"-\"*20)\n",
        "\n",
        "    return loss_history"
      ]
    },
    {
      "cell_type": "code",
      "source": [
        "# Cross Entropy 확인 (SoftMax 확인)\n",
        "\n",
        "import torch.nn.functional as F\n",
        "\n",
        "y_hat = torch.randn(3, 5) # data는 세 개, 5 종류로 분류하는 문제 가정\n",
        "print(y_hat) # 가로 축으로 합이 1이 아님, 즉, softmax 통과 전\n",
        "y_batch = torch.randint(5, (3,))\n",
        "print(y_batch)"
      ],
      "metadata": {
        "colab": {
          "base_uri": "https://localhost:8080/"
        },
        "id": "YFMKfnFBPTzx",
        "outputId": "f3c2d604-779d-4d7a-ee36-bfcab90dabf9"
      },
      "execution_count": null,
      "outputs": [
        {
          "output_type": "stream",
          "name": "stdout",
          "text": [
            "tensor([[ 0.3718, -1.0646, -1.6762,  0.1331,  0.5709],\n",
            "        [ 0.1788,  0.2651,  0.4804,  0.0315, -0.5601],\n",
            "        [-1.2318,  0.2904, -0.2422,  3.0015, -0.5779]])\n",
            "tensor([3, 1, 2])\n"
          ]
        }
      ]
    },
    {
      "cell_type": "code",
      "source": [
        "# 방법 1\n",
        "loss = F.cross_entropy(y_hat, y_batch)\n",
        "print(loss)\n",
        "\n",
        "# 방법 2\n",
        "criterion = nn.CrossEntropyLoss()\n",
        "print(criterion(y_hat, y_batch))\n",
        "\n",
        "# 방법 3\n",
        "y_hat_soft = F.softmax(y_hat, dim = 1)\n",
        "print(y_hat_soft)\n",
        "loss = 0\n",
        "for i, val in enumerate(y_hat_soft):\n",
        "    print(i, val)\n",
        "    loss = -torch.log(val[y_batch[i]])\n",
        "print(loss/3)"
      ],
      "metadata": {
        "colab": {
          "base_uri": "https://localhost:8080/"
        },
        "id": "kiCcyOvuTBdj",
        "outputId": "e0ca82f8-daa3-47ef-b25d-6dbf59182f53"
      },
      "execution_count": null,
      "outputs": [
        {
          "output_type": "stream",
          "name": "stdout",
          "text": [
            "tensor(2.1051)\n",
            "tensor(2.1051)\n",
            "tensor([[0.2963, 0.0705, 0.0382, 0.2334, 0.3616],\n",
            "        [0.2091, 0.2279, 0.2827, 0.1804, 0.0999],\n",
            "        [0.0126, 0.0579, 0.0340, 0.8712, 0.0243]])\n",
            "0 tensor([0.2963, 0.0705, 0.0382, 0.2334, 0.3616])\n",
            "1 tensor([0.2091, 0.2279, 0.2827, 0.1804, 0.0999])\n",
            "2 tensor([0.0126, 0.0579, 0.0340, 0.8712, 0.0243])\n",
            "tensor(1.1272)\n"
          ]
        }
      ]
    },
    {
      "cell_type": "code",
      "source": [
        "model = MLP().to(DEVICE)\n",
        "optimizer = optim.Adam(model.parameters(), lr=LR)\n",
        "loss_history = Train(model, train_DL, criterion, optimizer)\n",
        "\n",
        "plt.plot(range(1,EPOCH+1),loss_history)\n",
        "plt.xlabel('Epoch')\n",
        "plt.ylabel('loss')\n",
        "plt.title(\"Train Loss\")\n",
        "plt.grid()"
      ],
      "metadata": {
        "colab": {
          "base_uri": "https://localhost:8080/",
          "height": 829
        },
        "id": "HIGv4TxET1Ur",
        "outputId": "0c41c581-5d23-470a-e680-1992cb289a51"
      },
      "execution_count": null,
      "outputs": [
        {
          "output_type": "stream",
          "name": "stdout",
          "text": [
            "Epoch: 1, train loss: 0.309\n",
            "--------------------\n",
            "Epoch: 2, train loss: 0.14\n",
            "--------------------\n",
            "Epoch: 3, train loss: 0.093\n",
            "--------------------\n",
            "Epoch: 4, train loss: 0.069\n",
            "--------------------\n",
            "Epoch: 5, train loss: 0.054\n",
            "--------------------\n",
            "Epoch: 6, train loss: 0.043\n",
            "--------------------\n",
            "Epoch: 7, train loss: 0.034\n",
            "--------------------\n",
            "Epoch: 8, train loss: 0.028\n",
            "--------------------\n",
            "Epoch: 9, train loss: 0.022\n",
            "--------------------\n",
            "Epoch: 10, train loss: 0.019\n",
            "--------------------\n"
          ]
        },
        {
          "output_type": "display_data",
          "data": {
            "text/plain": [
              "<Figure size 640x480 with 1 Axes>"
            ],
            "image/png": "[encoded data removed]"
          },
          "metadata": {}
        }
      ]
    },
    {
      "cell_type": "code",
      "source": [
        "save_model_path = '/content/drive/MyDrive/혁펜하임 실습/Results/MLP_MNIST.pt'\n",
        "torch.save(model.state_dict(), save_model_path)\n",
        "model.state_dict()"
      ],
      "metadata": {
        "colab": {
          "base_uri": "https://localhost:8080/"
        },
        "id": "hR_SPInmWmXI",
        "outputId": "a49fdae3-b026-4ed9-9e78-72148103cdbb"
      },
      "execution_count": null,
      "outputs": [
        {
          "output_type": "execute_result",
          "data": {
            "text/plain": [
              "OrderedDict([('linear.0.weight',\n",
              "              tensor([[ 0.0186,  0.0051,  0.0094,  ...,  0.0222, -0.0003,  0.0231],\n",
              "                      [-0.0182, -0.0100,  0.0110,  ...,  0.0318, -0.0093,  0.0340],\n",
              "                      [ 0.0233, -0.0227,  0.0341,  ...,  0.0143,  0.0084, -0.0086],\n",
              "                      ...,\n",
              "                      [-0.0264,  0.0259,  0.0088,  ...,  0.0020,  0.0347,  0.0262],\n",
              "                      [ 0.0194,  0.0168, -0.0023,  ..., -0.0101, -0.0053, -0.0008],\n",
              "                      [-0.0222,  0.0237,  0.0206,  ...,  0.0010,  0.0107,  0.0148]],\n",
              "                     device='cuda:0')),\n",
              "             ('linear.0.bias',\n",
              "              tensor([ 0.0027, -0.0971, -0.1400, -0.1377,  0.1401,  0.0101, -0.1656,  0.0374,\n",
              "                       0.0044,  0.1478,  0.2110,  0.1017,  0.1741, -0.2802,  0.0611, -0.0256,\n",
              "                       0.0984,  0.0132, -0.0748,  0.0095,  0.0439,  0.4961,  0.0155,  0.4487,\n",
              "                      -0.0388,  0.2842, -0.1493,  0.1543,  0.2878,  0.0083,  0.0770, -0.1083,\n",
              "                       0.3451, -0.1208, -0.0495,  0.1351,  0.0656,  0.1208, -0.0563,  0.3360,\n",
              "                      -0.0597,  0.0120,  0.0495,  0.1319,  0.0306, -0.0408, -0.0218,  0.2665,\n",
              "                       0.0593,  0.1793,  0.0554,  0.0751,  0.0210, -0.0726, -0.0645,  0.0528,\n",
              "                       0.1492,  0.0665,  0.0106, -0.0367, -0.2076, -0.2038, -0.1230,  0.3222,\n",
              "                       0.1506,  0.0316,  0.0980, -0.0502,  0.0862,  0.0564, -0.0089, -0.0569,\n",
              "                      -0.2686, -0.0349,  0.2142,  0.0863,  0.0577,  0.0179, -0.0573,  0.0738,\n",
              "                       0.1190,  0.0032,  0.0825,  0.2682,  0.0476,  0.0737, -0.0979,  0.0966,\n",
              "                       0.0545, -0.0424,  0.1443, -0.0415,  0.0807,  0.0611, -0.0275,  0.0688,\n",
              "                       0.2179,  0.0338,  0.2781, -0.1340], device='cuda:0')),\n",
              "             ('linear.2.weight',\n",
              "              tensor([[-2.5182e-01,  1.9096e-01,  2.4340e-01, -2.5646e-01, -2.6005e-02,\n",
              "                        1.6568e-01,  8.5330e-02, -3.5877e-02,  1.3752e-01,  1.7340e-01,\n",
              "                        1.1037e-03, -5.3933e-01, -6.5751e-01,  1.8109e-01, -1.0088e-01,\n",
              "                        2.4104e-02, -5.6769e-01,  1.1847e-01,  1.3823e-01, -1.4818e-01,\n",
              "                       -2.8353e-01, -1.6611e-01, -1.0905e+00, -4.9038e-01,  1.2043e-01,\n",
              "                        5.1133e-02, -6.3422e-04, -3.6475e-01,  1.6005e-01,  1.6557e-01,\n",
              "                       -2.8510e-01, -6.9881e-01, -1.1147e-01,  1.0718e-01,  1.8557e-01,\n",
              "                       -3.9555e-01,  1.9313e-02,  1.2634e-01,  2.2001e-01,  7.2594e-02,\n",
              "                       -1.6158e-01,  1.9100e-01,  1.2929e-01, -6.9076e-01,  2.7163e-01,\n",
              "                       -1.8739e-01,  1.0626e-01, -1.4492e-01,  1.5082e-01,  3.8327e-01,\n",
              "                        1.2146e-01,  1.4206e-01, -1.7246e-01,  3.0321e-01,  3.3918e-01,\n",
              "                       -5.8606e-02,  2.1859e-02,  5.5075e-02,  2.2552e-01, -3.1218e-02,\n",
              "                        1.2443e-03,  1.2587e-01, -3.4003e-01, -4.6740e-01,  1.5362e-01,\n",
              "                        8.3365e-02, -5.1202e-01, -2.8516e-01, -3.8736e-02,  3.4606e-01,\n",
              "                        2.8293e-01, -7.3748e-01,  1.7658e-01, -4.7813e-01, -1.1892e-02,\n",
              "                        2.7444e-01, -2.8461e-01, -7.4026e-01,  2.1628e-01,  3.0994e-02,\n",
              "                       -5.1930e-02,  3.3881e-03,  2.4093e-01, -1.1846e-01, -5.6279e-01,\n",
              "                       -2.4026e-01, -5.0230e-01,  2.4373e-01, -1.2921e+00, -6.0744e-01,\n",
              "                        3.3109e-02,  3.6239e-01, -4.0924e-02, -8.3402e-01, -3.9985e-01,\n",
              "                        1.0298e-01, -1.8291e-02, -5.0467e-01, -2.0917e-01,  5.7821e-02],\n",
              "                      [ 2.3639e-01,  3.0344e-01,  2.3337e-01,  3.6210e-01, -6.3902e-02,\n",
              "                        1.5508e-01, -4.1559e-01,  1.8103e-01, -3.0266e-01, -4.1727e-04,\n",
              "                        8.0326e-01,  5.1367e-01, -2.0242e-01, -4.8100e-01, -2.4620e-01,\n",
              "                       -2.8504e-01, -2.4466e-01, -1.7230e-02, -2.8141e-01, -1.0478e-01,\n",
              "                       -1.9107e-01,  3.4053e-01,  5.9276e-01,  1.1726e-01, -8.3280e-01,\n",
              "                        1.4895e-01,  1.1252e-01,  2.7374e-01, -8.0857e-01, -7.8092e-01,\n",
              "                       -6.3901e-01,  1.1133e-01, -3.2509e-01, -1.3581e-01, -6.7204e-01,\n",
              "                       -3.2867e-01, -1.4777e-01, -3.2335e-01, -3.8186e-02,  1.7611e-01,\n",
              "                        9.9255e-02, -6.6372e-02, -1.8925e-01, -8.0422e-02, -2.2267e-01,\n",
              "                       -2.2680e-01, -1.7074e-01,  2.0305e-02,  1.7683e-01, -3.8293e-01,\n",
              "                       -2.7326e-01,  2.1951e-01,  3.2075e-02, -4.1405e-01, -5.8703e-01,\n",
              "                        2.1058e-01, -3.2307e-01, -2.0137e-02, -2.9044e-01,  1.5925e-01,\n",
              "                        1.2612e-01,  1.1937e-01,  1.0224e-01,  8.9643e-02, -7.5805e-01,\n",
              "                        2.0867e-01,  5.2378e-02,  1.5125e-01, -2.1796e-01,  4.4771e-01,\n",
              "                       -1.4470e-01, -6.7841e-02, -4.4880e-01,  9.0128e-02, -7.2820e-02,\n",
              "                        1.3370e-01,  2.5853e-02, -2.7896e-01, -4.5467e-01, -3.7526e-01,\n",
              "                       -4.4801e-02,  8.7262e-01,  3.0877e-01, -1.0372e-01, -9.8725e-01,\n",
              "                        1.2149e-01,  2.4042e-01,  5.4899e-01,  1.1444e-01,  1.5652e-01,\n",
              "                       -9.5742e-01, -4.8067e-01, -9.4858e-01,  1.6732e-01,  7.7688e-02,\n",
              "                       -1.0829e-01,  1.1832e-02, -4.3295e-01,  5.5473e-02,  8.8489e-02],\n",
              "                      [ 1.9056e-01, -3.0081e-02, -2.7966e-01,  3.0461e-01,  8.7303e-02,\n",
              "                        4.1672e-01,  1.0216e-01,  2.2001e-01,  1.3633e-02, -8.8345e-02,\n",
              "                       -1.6495e-01,  2.8069e-01, -6.2871e-01,  1.4534e-01, -2.7251e-01,\n",
              "                       -4.0596e-02, -1.8833e-01,  7.2355e-02,  1.6321e-01, -1.7997e-01,\n",
              "                        2.2445e-01, -5.3743e-01, -4.8342e-01,  3.8729e-01, -1.8583e-01,\n",
              "                        9.2874e-02, -5.6408e-01, -5.5860e-01, -6.8671e-01, -3.4516e-01,\n",
              "                       -3.7925e-02,  8.6034e-02, -9.8356e-02, -1.5510e-01, -9.1281e-02,\n",
              "                       -4.9649e-01, -3.4550e-02, -7.4281e-02,  1.9226e-02,  8.2566e-02,\n",
              "                       -1.4991e-02,  1.3125e-01, -5.7327e-03, -6.0909e-02,  2.3441e-01,\n",
              "                        4.9357e-02, -1.4403e-01, -1.0074e+00, -2.6948e-01, -1.6615e-02,\n",
              "                        3.9512e-02,  2.7475e-01,  1.5462e-01,  1.0219e-01,  1.4639e-01,\n",
              "                        3.7752e-02, -5.5273e-01,  1.6942e-02,  3.4204e-01, -5.1217e-01,\n",
              "                        2.1985e-01, -5.1056e-02,  1.8209e-01, -7.7715e-01, -1.1568e-01,\n",
              "                        2.9324e-01,  5.9682e-02, -4.3482e-01,  2.0637e-01,  4.2763e-02,\n",
              "                        4.0308e-01,  2.0383e-01, -3.1067e-01,  1.7203e-01, -9.2480e-02,\n",
              "                        2.3506e-01, -3.1215e-02,  3.6773e-01,  1.0311e-02,  1.7227e-03,\n",
              "                        2.0310e-02, -3.7844e-01,  7.4488e-02,  4.3543e-01, -7.5736e-02,\n",
              "                       -2.2431e-01,  3.5071e-01, -1.3468e-01,  1.9553e-01, -1.6071e-01,\n",
              "                       -1.3195e-01,  2.2582e-01, -6.7438e-03,  4.8055e-01,  8.2230e-03,\n",
              "                        1.8534e-01,  4.0218e-01,  6.2995e-02,  1.2952e-01,  1.3427e-01],\n",
              "                      [ 2.1750e-01, -4.1862e-01, -2.8999e-01,  4.1201e-01, -2.4493e-02,\n",
              "                        1.1952e-01,  1.2638e-01, -5.1485e-01, -4.1729e-02, -2.5172e-01,\n",
              "                        3.5184e-02, -3.9140e-01,  4.0535e-01, -5.0793e-02,  3.5338e-04,\n",
              "                        4.3224e-03,  6.4487e-02, -1.7393e-02,  6.3214e-03, -6.3878e-01,\n",
              "                       -2.4132e-01, -6.9575e-01,  3.6049e-01,  1.1944e-01,  1.1236e-01,\n",
              "                       -7.3749e-01,  6.5419e-01, -6.4117e-01, -3.0080e-01,  2.5588e-01,\n",
              "                        5.1248e-01,  7.3705e-02, -3.4157e-01,  9.1622e-02,  1.8070e-01,\n",
              "                        2.4820e-01, -2.7211e-01, -3.7892e-01,  6.7131e-02, -2.3821e-01,\n",
              "                        5.0571e-04,  1.1280e-01,  2.2526e-02,  2.8617e-01, -9.1781e-02,\n",
              "                        1.1808e-01,  4.6599e-02, -1.1668e-01, -1.2093e-01,  7.3439e-02,\n",
              "                       -1.0557e-01, -1.7595e-01,  9.4006e-02, -1.8561e-02,  2.0394e-01,\n",
              "                       -8.9160e-01,  1.7131e-01, -2.8550e-02, -3.4031e-02,  3.3665e-01,\n",
              "                        1.9510e-01,  7.9271e-02,  1.8423e-01, -6.2785e-01, -5.3092e-01,\n",
              "                       -3.9737e-01,  8.9758e-02,  3.0856e-01,  3.3969e-01,  4.1730e-01,\n",
              "                       -3.5892e-01,  1.9394e-01,  1.7173e-01,  3.2213e-01,  1.6297e-01,\n",
              "                       -6.1551e-02,  9.9590e-02,  1.7427e-01, -1.7386e-02, -2.1771e-01,\n",
              "                        1.2605e-01, -1.6256e-01, -1.5332e-01, -4.0672e-01,  2.0235e-01,\n",
              "                       -1.3908e-01,  3.5395e-02, -2.7622e-01, -4.4061e-01,  1.6041e-01,\n",
              "                       -4.0423e-01,  1.3447e-03, -5.7915e-01, -1.4541e-01,  5.2966e-02,\n",
              "                       -1.1072e-01,  1.2036e-01,  6.3145e-02,  1.5388e-01,  2.7899e-01],\n",
              "                      [ 1.5273e-01,  1.2753e-01,  4.1921e-01, -5.0937e-01, -1.5605e-01,\n",
              "                       -8.2206e-01,  2.5216e-01,  1.5790e-02,  1.9895e-01,  1.1808e-02,\n",
              "                        7.6923e-01,  2.8328e-01,  1.8513e-01, -1.4116e-01,  8.2863e-03,\n",
              "                        1.1870e-01,  1.3004e-01, -1.2778e-02, -1.1552e+00, -1.9109e-01,\n",
              "                        1.3533e-01, -3.1088e-01, -1.8386e-01,  2.2298e-01,  5.3968e-02,\n",
              "                        4.6859e-01,  8.0544e-02,  1.4134e-02,  3.7612e-01, -3.5139e-01,\n",
              "                       -1.3405e-01,  1.0695e-01,  1.0299e-01,  1.5328e-01, -3.4709e-01,\n",
              "                        1.1744e-01,  2.8882e-01,  2.1727e-01, -8.9201e-01,  9.8492e-02,\n",
              "                        1.2845e-01,  1.7846e-01,  9.9943e-02,  2.1553e-01, -4.4916e-01,\n",
              "                        1.4972e-02,  1.5864e-02,  7.2941e-02, -3.3619e-01, -1.2728e+00,\n",
              "                       -1.4032e-01,  3.8127e-01, -1.3203e+00, -3.1856e-01, -7.0160e-01,\n",
              "                        1.8823e-01, -2.6658e-01, -3.9994e-02, -5.3511e-01, -4.4942e-01,\n",
              "                       -6.5004e-01, -6.4303e-01, -1.0303e-01,  3.7372e-01,  3.1491e-01,\n",
              "                       -3.5509e-01,  3.8904e-01,  6.8543e-02, -5.7917e-01, -4.4853e-01,\n",
              "                        4.5033e-02, -3.2872e-02,  4.8404e-01, -9.7917e-01, -1.7009e-01,\n",
              "                        5.4716e-01,  5.0792e-02, -8.3397e-02, -2.1194e-01,  1.6789e-01,\n",
              "                       -2.8172e-01, -1.2417e-02, -7.3693e-01, -2.7437e-01, -5.1878e-01,\n",
              "                        4.3527e-02,  2.5423e-01, -1.6470e-01, -4.3118e-01,  1.2770e-02,\n",
              "                        1.3547e-01, -9.4363e-01,  1.5627e-01, -2.5346e-01, -3.2464e-01,\n",
              "                       -1.2017e+00,  2.7603e-01,  2.1458e-01,  1.2265e-01, -1.9476e-01],\n",
              "                      [-8.9331e-01, -1.2147e-01, -6.4819e-01, -5.8342e-01, -7.9892e-03,\n",
              "                        2.1521e-01, -1.1219e-02, -8.3714e-01, -3.5551e-01,  5.3589e-02,\n",
              "                       -5.7086e-01, -6.2276e-01,  2.6628e-01, -6.2029e-01,  1.2174e-01,\n",
              "                       -9.3439e-02,  1.3882e-01, -1.4692e-01,  2.9691e-01,  3.2023e-01,\n",
              "                       -1.4214e-01,  5.0123e-01,  4.8363e-01,  1.8156e-01,  1.2392e-01,\n",
              "                       -1.7933e-01, -3.0173e-01,  3.7557e-01,  3.9378e-01,  1.0872e-01,\n",
              "                        2.3952e-01, -4.8010e-02,  4.3538e-01, -2.3601e-01,  1.1725e-01,\n",
              "                        9.8744e-02,  1.2062e-01,  9.6262e-02,  8.4474e-02,  9.8390e-02,\n",
              "                       -1.7360e-01,  7.2705e-02,  8.3677e-04, -8.4469e-02, -5.7635e-01,\n",
              "                        1.1535e-01,  3.0116e-03,  2.4447e-01,  7.0471e-02,  2.4141e-01,\n",
              "                       -7.5487e-01, -8.5265e-01,  4.5078e-01, -1.7862e-01,  1.2915e-01,\n",
              "                       -4.9387e-01,  3.0231e-01,  8.3751e-02,  2.3605e-02,  8.7707e-03,\n",
              "                       -2.2357e-01,  5.1953e-02, -5.0245e-01,  2.7147e-01,  2.9468e-01,\n",
              "                       -2.1358e-01,  5.9795e-02,  2.0221e-01, -2.9669e-01, -9.1398e-01,\n",
              "                       -1.9612e-01,  1.2030e-01, -1.2762e-01,  8.4584e-02,  1.3793e-01,\n",
              "                       -6.8235e-01, -7.7284e-02,  2.6955e-01, -3.0486e-03, -3.5452e-01,\n",
              "                        2.4872e-01, -1.4347e-01, -3.1629e-01, -8.2044e-02,  5.2518e-01,\n",
              "                       -7.8595e-02, -4.5151e-01, -5.3086e-01,  4.7065e-01, -6.4239e-02,\n",
              "                        1.9556e-01, -8.3697e-02, -3.7669e-02, -1.1660e-01,  6.3920e-02,\n",
              "                        7.8025e-02,  3.2827e-01,  1.2770e-01,  4.8705e-02,  1.5534e-02],\n",
              "                      [-7.3029e-01, -7.2011e-02, -1.5503e-01, -9.8141e-02,  7.3215e-02,\n",
              "                       -8.6846e-02, -4.5672e-01,  1.4049e-01, -1.9199e-01, -6.8330e-01,\n",
              "                       -3.3475e-01,  5.6200e-02, -8.0767e-01, -4.8046e-02,  2.8406e-02,\n",
              "                       -8.2442e-02,  1.9271e-01,  1.1373e-01, -2.8702e-01,  2.7183e-01,\n",
              "                       -2.6901e-02, -3.7946e-01, -1.4510e+00, -7.4261e-01,  1.2151e-01,\n",
              "                       -4.7151e-02,  3.6110e-01,  4.9354e-01,  3.5267e-01, -8.1492e-02,\n",
              "                       -8.8734e-01, -4.9646e-01, -9.8729e-01, -5.0300e-02, -1.3685e-01,\n",
              "                       -2.9891e-02,  4.4918e-02,  3.2515e-01,  1.8356e-01,  1.2021e-01,\n",
              "                        1.3128e-01,  1.2729e-01, -2.6818e-02, -4.8911e-01, -2.8646e-01,\n",
              "                       -3.7738e-01, -1.1636e-01,  1.0133e-01, -5.5419e-02,  3.2164e-01,\n",
              "                        3.0183e-01, -8.5842e-01, -4.2290e-02,  1.5053e-03, -2.6631e-01,\n",
              "                        1.4374e-01,  5.2109e-02, -5.0587e-02,  2.5296e-01, -3.1088e-01,\n",
              "                       -5.3838e-01,  1.0456e-01, -3.9715e-01, -2.6755e-02,  1.1279e-01,\n",
              "                        2.3473e-01, -6.0246e-01,  9.8633e-02,  3.7256e-01,  1.5072e-01,\n",
              "                        7.5017e-02, -6.0935e-02,  6.7356e-02, -6.5551e-02,  2.2926e-01,\n",
              "                       -4.4354e-01,  7.6972e-02, -8.1291e-01, -7.1374e-01,  1.0360e-01,\n",
              "                        1.0424e-01,  1.4906e-01,  7.7488e-02,  2.7550e-01,  1.8793e-01,\n",
              "                        6.2116e-02, -5.8729e-01,  3.8967e-01,  3.8388e-01, -8.0213e-01,\n",
              "                        1.4921e-01, -4.7756e-01,  1.8631e-01, -4.1429e-01, -2.2959e-01,\n",
              "                        8.1986e-02, -1.0842e-01,  2.5079e-01,  1.0927e-01,  2.7504e-01],\n",
              "                      [ 1.8428e-01, -2.5564e-01,  1.3354e-01,  5.5107e-01, -2.3612e-01,\n",
              "                       -1.0090e-01, -2.9307e-01, -2.7233e-01,  1.4043e-01,  1.5087e-01,\n",
              "                        1.9181e-01,  2.7538e-01,  1.3177e-01,  2.0765e-02,  4.4606e-02,\n",
              "                        7.1338e-02, -1.2395e-01, -5.5566e-01,  5.1616e-01,  2.6297e-01,\n",
              "                       -5.1881e-01, -4.8240e-02, -6.4830e-01,  1.2707e-01, -2.4312e-01,\n",
              "                        5.7613e-01,  3.8236e-01, -3.5320e-01,  4.1895e-01,  2.4277e-01,\n",
              "                        9.7767e-02,  2.4431e-01,  2.1606e-01, -1.7187e-01,  1.4448e-02,\n",
              "                        3.2698e-02, -5.0701e-01, -6.8591e-02, -4.3901e-01, -8.1115e-01,\n",
              "                        2.2959e-01, -7.0011e-01, -3.2599e-01,  8.1932e-02,  1.4772e-01,\n",
              "                       -8.7287e-02,  4.6180e-02,  1.2895e-01, -1.3201e-01, -3.9362e-01,\n",
              "                        6.6947e-02,  1.3229e-01,  1.4863e-01, -4.0917e-01, -1.5643e-01,\n",
              "                        3.6000e-01, -7.0405e-01, -3.3046e-01,  4.3750e-02,  1.3906e-01,\n",
              "                       -1.3483e-01, -8.8121e-02, -3.3869e-01, -9.4100e-02,  9.7117e-02,\n",
              "                        9.3267e-02, -1.8689e-01, -6.6085e-01, -1.0501e-01, -1.1021e-02,\n",
              "                        3.0294e-01,  2.1670e-01, -2.4218e-01,  1.9132e-01, -3.2728e-01,\n",
              "                       -1.5273e-02, -1.0409e-01,  2.1769e-01,  1.1498e-01,  1.2350e-02,\n",
              "                       -6.7196e-01,  3.8150e-01,  6.4166e-02, -5.2455e-02,  1.3015e-01,\n",
              "                        1.0834e-01,  2.6766e-01,  4.3803e-02,  1.5381e-01,  1.4991e-01,\n",
              "                       -1.8099e-01,  1.2164e-01, -1.9668e-01,  4.2215e-01, -4.3920e-01,\n",
              "                        1.5431e-01, -4.5075e-01, -7.5851e-01, -2.4075e-01,  1.0192e-01],\n",
              "                      [ 3.4390e-02,  9.1769e-02, -4.0152e-01, -7.3679e-01,  1.0072e-01,\n",
              "                       -1.2848e-01,  2.7724e-01, -2.4979e-02,  9.5036e-03,  2.6578e-01,\n",
              "                       -6.3083e-01,  1.0665e-01, -5.0099e-01, -4.5738e-02,  4.7785e-02,\n",
              "                        1.6980e-02,  7.0777e-02,  1.1175e-01,  3.7565e-03,  1.9058e-01,\n",
              "                        2.6969e-01, -1.8764e-01, -1.0108e+00, -1.1589e+00, -8.4904e-02,\n",
              "                       -3.9630e-01, -5.8721e-01, -8.0897e-02, -1.3873e-01,  3.9978e-02,\n",
              "                       -6.5980e-01,  1.9321e-03, -4.3185e-02,  1.4406e-01,  1.6196e-01,\n",
              "                        1.7258e-01, -2.5356e-01, -1.2658e-01,  7.9151e-02,  9.8739e-02,\n",
              "                       -9.7078e-02, -4.7806e-02,  1.2886e-01,  2.1783e-01, -7.5816e-02,\n",
              "                        8.8316e-02,  1.7746e-01,  1.2391e-02,  1.4862e-01, -4.2521e-01,\n",
              "                        1.4595e-01, -1.4070e-01, -2.2142e-01,  1.6154e-01, -4.3073e-01,\n",
              "                       -8.1532e-02,  2.8443e-01,  1.2429e-01, -5.6065e-02,  9.8259e-02,\n",
              "                        9.2302e-03,  1.1657e-01,  2.4411e-01,  2.1124e-01,  1.0966e-01,\n",
              "                        3.7957e-01,  2.5939e-01,  2.5253e-01, -6.8209e-01, -2.9204e-01,\n",
              "                       -9.1023e-01, -1.5936e-02, -3.8247e-01, -5.1143e-02,  1.3035e-01,\n",
              "                       -3.2839e-01,  1.7514e-01, -1.1476e-01, -8.7733e-02,  8.8688e-02,\n",
              "                       -8.7529e-02, -4.6826e-01,  1.3041e-01, -7.2182e-02, -1.2048e-01,\n",
              "                        1.1635e-01,  2.0873e-01, -8.6469e-01, -2.6082e-01,  8.0673e-03,\n",
              "                        2.1376e-01, -1.4021e-01,  3.4861e-01, -3.4950e-02,  2.9891e-01,\n",
              "                        5.8635e-03, -5.1334e-01, -2.3565e-01,  1.6594e-01, -5.6615e-01],\n",
              "                      [-2.6685e-02,  1.0870e-01,  3.1430e-01, -1.3214e+00, -3.6803e-02,\n",
              "                       -7.2735e-01,  4.8984e-02,  4.7425e-01, -1.0244e-02,  1.2642e-01,\n",
              "                       -3.9880e-01, -4.0839e-01,  2.8076e-01,  2.4206e-01,  1.8097e-01,\n",
              "                        1.2554e-01,  1.2611e-01, -1.0596e-04,  3.7736e-02,  6.9750e-02,\n",
              "                        1.1568e-01,  3.5620e-01,  3.2659e-01,  5.2792e-02,  2.5619e-01,\n",
              "                       -9.5620e-02, -1.2922e-01,  1.6906e-01, -5.0230e-01, -9.5170e-02,\n",
              "                       -1.8631e-02, -7.9097e-01,  1.0822e-01,  1.0200e-02, -1.2837e-01,\n",
              "                        9.2218e-02,  3.6373e-01, -9.2746e-01, -2.1466e-01, -3.2299e-01,\n",
              "                       -8.7451e-01, -4.3180e-01, -5.4220e-02,  1.2386e-01,  3.7081e-01,\n",
              "                        1.1832e-01,  9.5255e-02,  2.3431e-01,  1.0781e-01, -3.2218e-01,\n",
              "                        6.0713e-02,  6.3094e-02, -1.1631e-01,  2.0599e-01,  1.0576e-01,\n",
              "                        1.4398e-01,  1.1730e-01,  3.3294e-02, -8.1225e-01,  1.6482e-01,\n",
              "                        1.1594e-01,  4.2815e-02,  2.5667e-01,  3.5813e-02, -2.3663e-01,\n",
              "                       -1.1594e+00,  1.1361e-01,  4.3808e-02,  2.8010e-01,  3.2389e-02,\n",
              "                        4.7286e-02, -9.4387e-01,  2.3683e-01, -2.7618e-01, -7.8267e-01,\n",
              "                        7.6461e-02,  1.1360e-01, -3.8745e-02,  1.9830e-01,  2.0976e-02,\n",
              "                       -5.9912e-02, -2.0127e-01, -6.5591e-01, -7.9663e-01,  6.1193e-02,\n",
              "                        1.1191e-02, -6.4311e-01,  3.0999e-01, -3.3459e-02, -5.5449e-02,\n",
              "                        4.9065e-02,  2.7927e-01,  6.2097e-02, -2.6425e-02,  2.1790e-01,\n",
              "                       -1.0797e-01, -6.8508e-01,  1.9162e-01, -2.0967e-01, -8.6568e-01]],\n",
              "                     device='cuda:0')),\n",
              "             ('linear.2.bias',\n",
              "              tensor([-0.3277,  0.0361, -0.0585, -0.2358,  0.0815,  0.0867, -0.1410, -0.0628,\n",
              "                       0.1252, -0.0303], device='cuda:0'))])"
            ]
          },
          "metadata": {},
          "execution_count": 28
        }
      ]
    },
    {
      "cell_type": "code",
      "source": [
        "load_model = MLP().to(DEVICE)\n",
        "load_model.load_state_dict(torch.load(save_model_path, map_location=DEVICE))\n"
      ],
      "metadata": {
        "colab": {
          "base_uri": "https://localhost:8080/"
        },
        "id": "lBFTc1OYYE6f",
        "outputId": "a838434f-345d-4b9e-8177-eba9f1a90138"
      },
      "execution_count": null,
      "outputs": [
        {
          "output_type": "stream",
          "name": "stderr",
          "text": [
            "<ipython-input-29-819f402e6df2>:2: FutureWarning: You are using `torch.load` with `weights_only=False` (the current default value), which uses the default pickle module implicitly. It is possible to construct malicious pickle data which will execute arbitrary code during unpickling (See https://github.com/pytorch/pytorch/blob/main/SECURITY.md#untrusted-models for more details). In a future release, the default value for `weights_only` will be flipped to `True`. This limits the functions that could be executed during unpickling. Arbitrary objects will no longer be allowed to be loaded via this mode unless they are explicitly allowlisted by the user via `torch.serialization.add_safe_globals`. We recommend you start setting `weights_only=True` for any use case where you don't have full control of the loaded file. Please open an issue on GitHub for any issues related to this experimental feature.\n",
            "  load_model.load_state_dict(torch.load(save_model_path, map_location=DEVICE))\n"
          ]
        },
        {
          "output_type": "execute_result",
          "data": {
            "text/plain": [
              "<All keys matched successfully>"
            ]
          },
          "metadata": {},
          "execution_count": 29
        }
      ]
    },
    {
      "cell_type": "code",
      "source": [
        "def Test(model, test_DL):\n",
        "    model.eval()\n",
        "    with torch.no_grad():\n",
        "        rcorrect = 0\n",
        "        for x_batch, y_batch in test_DL:\n",
        "            x_batch = x_batch.to(DEVICE)\n",
        "            y_batch = y_batch.to(DEVICE)\n",
        "            # inference\n",
        "            y_hat = model(x_batch)\n",
        "            # accuracy accumulation\n",
        "            pred = y_hat.argmax(dim = 1)\n",
        "            corrects_b = torch.sum(pred == y_batch).item()\n",
        "            rcorrect += corrects_b\n",
        "        accuracy_e = rcorrect/len(test_DL.dataset)*100\n",
        "    print(f\"Test accuracy: {rcorrect}/{len(test_DL.dataset)} ({round(accuracy_e,1)} %)\")\n",
        "            # print(torch.sum(pred == y_batch))\n",
        "            # print(pred)\n",
        "            # print(y_batch)"
      ],
      "metadata": {
        "id": "J3BvGkkJYW4c"
      },
      "execution_count": null,
      "outputs": []
    },
    {
      "cell_type": "code",
      "source": [
        "Test(load_model, test_DL)"
      ],
      "metadata": {
        "colab": {
          "base_uri": "https://localhost:8080/"
        },
        "id": "gYZEaOBLZpf-",
        "outputId": "1c00bee8-be94-434e-e970-b2c09c584775"
      },
      "execution_count": null,
      "outputs": [
        {
          "output_type": "stream",
          "name": "stdout",
          "text": [
            "Test accuracy: 9767/10000 (97.7 %)\n"
          ]
        }
      ]
    },
    {
      "cell_type": "code",
      "source": [
        "def Test_plot(model, test_DL):\n",
        "    model.eval()\n",
        "    with torch.no_grad():\n",
        "        x_batch, y_batch = next(iter(test_DL))\n",
        "        x_batch = x_batch.to(DEVICE)\n",
        "        y_hat = model(x_batch)\n",
        "        pred = y_hat.argmax(dim=1)\n",
        "\n",
        "    x_batch = x_batch.to(\"cpu\")\n",
        "\n",
        "    plt.figure(figsize=(8,4))\n",
        "    for idx in range(6):\n",
        "        plt.subplot(2,3, idx+1, xticks=[], yticks=[])\n",
        "        plt.imshow(x_batch[idx].permute(1,2,0).squeeze(), cmap=\"gray\")\n",
        "        pred_class = test_DL.dataset.classes[pred[idx]]\n",
        "        true_class = test_DL.dataset.classes[y_batch[idx]]\n",
        "        plt.title(f\"{pred_class} ({true_class})\", color = \"g\" if pred_class==true_class else \"r\")"
      ],
      "metadata": {
        "id": "FrkbMEb6a7Fh"
      },
      "execution_count": null,
      "outputs": []
    },
    {
      "cell_type": "code",
      "source": [
        "Test_plot(load_model, test_DL)"
      ],
      "metadata": {
        "colab": {
          "base_uri": "https://localhost:8080/",
          "height": 367
        },
        "id": "655_miupbN9u",
        "outputId": "2df3eda2-ec7d-4a9d-9c61-eb81c5b90dfb"
      },
      "execution_count": null,
      "outputs": [
        {
          "output_type": "display_data",
          "data": {
            "text/plain": [
              "<Figure size 800x400 with 6 Axes>"
            ],
            "image/png": "[encoded data removed]"
          },
          "metadata": {}
        }
      ]
    },
    {
      "cell_type": "code",
      "source": [
        "# 파라미터 수 구하기\n",
        "def count_params(model):\n",
        "    num = sum([p.numel() for p in model.parameters() if p.requires_grad])\n",
        "    return num"
      ],
      "metadata": {
        "id": "s0jP5zplmdBK"
      },
      "execution_count": null,
      "outputs": []
    },
    {
      "cell_type": "code",
      "source": [
        "print(count_params(load_model))"
      ],
      "metadata": {
        "colab": {
          "base_uri": "https://localhost:8080/"
        },
        "id": "j8eaojQfnSxZ",
        "outputId": "c11fb752-d2b5-456e-be26-b1f839de9529"
      },
      "execution_count": null,
      "outputs": [
        {
          "output_type": "stream",
          "name": "stdout",
          "text": [
            "79510\n"
          ]
        }
      ]
    },
    {
      "cell_type": "code",
      "source": [],
      "metadata": {
        "id": "D9aQRucvnT5t"
      },
      "execution_count": null,
      "outputs": []
    }
  ],
  "metadata": {
    "accelerator": "GPU",
    "colab": {
      "gpuType": "T4",
      "provenance": []
    },
    "kernelspec": {
      "display_name": "Python 3",
      "name": "python3"
    },
    "language_info": {
      "name": "python"
    }
  },
  "nbformat": 4,
  "nbformat_minor": 0
}