{
  "nbformat": 4,
  "nbformat_minor": 0,
  "metadata": {
    "colab": {
      "provenance": [],
      "gpuType": "T4"
    },
    "kernelspec": {
      "name": "python3",
      "display_name": "Python 3"
    },
    "language_info": {
      "name": "python"
    },
    "accelerator": "GPU"
  },
  "cells": [
    {
      "cell_type": "code",
      "execution_count": null,
      "metadata": {
        "id": "6MNGyFpqzr8A"
      },
      "outputs": [],
      "source": [
        "import torch\n",
        "from torch import nn"
      ]
    },
    {
      "cell_type": "code",
      "source": [
        "# x = torch.tensor([1,])\n",
        "# model = nn.Linear(1,1)\n",
        "\n",
        "# print(model.weight)\n",
        "# print(model.bias)\n",
        "\n",
        "# y = model(x)\n",
        "# print(y)"
      ],
      "metadata": {
        "colab": {
          "base_uri": "https://localhost:8080/",
          "height": 454
        },
        "id": "iPCoY9-uzwle",
        "outputId": "3d18eaab-75ef-48ce-a709-c802b7207da3"
      },
      "execution_count": null,
      "outputs": [
        {
          "output_type": "stream",
          "name": "stdout",
          "text": [
            "Parameter containing:\n",
            "tensor([[-0.3019]], requires_grad=True)\n",
            "Parameter containing:\n",
            "tensor([0.4842], requires_grad=True)\n"
          ]
        },
        {
          "output_type": "error",
          "ename": "RuntimeError",
          "evalue": "mat1 and mat2 must have the same dtype, but got Long and Float",
          "traceback": [
            "\u001b[0;31m---------------------------------------------------------------------------\u001b[0m",
            "\u001b[0;31mRuntimeError\u001b[0m                              Traceback (most recent call last)",
            "\u001b[0;32m<ipython-input-2-7c0ba71fa8bd>\u001b[0m in \u001b[0;36m<cell line: 7>\u001b[0;34m()\u001b[0m\n\u001b[1;32m      5\u001b[0m \u001b[0mprint\u001b[0m\u001b[0;34m(\u001b[0m\u001b[0mmodel\u001b[0m\u001b[0;34m.\u001b[0m\u001b[0mbias\u001b[0m\u001b[0;34m)\u001b[0m\u001b[0;34m\u001b[0m\u001b[0;34m\u001b[0m\u001b[0m\n\u001b[1;32m      6\u001b[0m \u001b[0;34m\u001b[0m\u001b[0m\n\u001b[0;32m----> 7\u001b[0;31m \u001b[0my\u001b[0m \u001b[0;34m=\u001b[0m \u001b[0mmodel\u001b[0m\u001b[0;34m(\u001b[0m\u001b[0mx\u001b[0m\u001b[0;34m)\u001b[0m\u001b[0;34m\u001b[0m\u001b[0;34m\u001b[0m\u001b[0m\n\u001b[0m\u001b[1;32m      8\u001b[0m \u001b[0mprint\u001b[0m\u001b[0;34m(\u001b[0m\u001b[0my\u001b[0m\u001b[0;34m)\u001b[0m\u001b[0;34m\u001b[0m\u001b[0;34m\u001b[0m\u001b[0m\n",
            "\u001b[0;32m/usr/local/lib/python3.10/dist-packages/torch/nn/modules/module.py\u001b[0m in \u001b[0;36m_wrapped_call_impl\u001b[0;34m(self, *args, **kwargs)\u001b[0m\n\u001b[1;32m   1551\u001b[0m             \u001b[0;32mreturn\u001b[0m \u001b[0mself\u001b[0m\u001b[0;34m.\u001b[0m\u001b[0m_compiled_call_impl\u001b[0m\u001b[0;34m(\u001b[0m\u001b[0;34m*\u001b[0m\u001b[0margs\u001b[0m\u001b[0;34m,\u001b[0m \u001b[0;34m**\u001b[0m\u001b[0mkwargs\u001b[0m\u001b[0;34m)\u001b[0m  \u001b[0;31m# type: ignore[misc]\u001b[0m\u001b[0;34m\u001b[0m\u001b[0;34m\u001b[0m\u001b[0m\n\u001b[1;32m   1552\u001b[0m         \u001b[0;32melse\u001b[0m\u001b[0;34m:\u001b[0m\u001b[0;34m\u001b[0m\u001b[0;34m\u001b[0m\u001b[0m\n\u001b[0;32m-> 1553\u001b[0;31m             \u001b[0;32mreturn\u001b[0m \u001b[0mself\u001b[0m\u001b[0;34m.\u001b[0m\u001b[0m_call_impl\u001b[0m\u001b[0;34m(\u001b[0m\u001b[0;34m*\u001b[0m\u001b[0margs\u001b[0m\u001b[0;34m,\u001b[0m \u001b[0;34m**\u001b[0m\u001b[0mkwargs\u001b[0m\u001b[0;34m)\u001b[0m\u001b[0;34m\u001b[0m\u001b[0;34m\u001b[0m\u001b[0m\n\u001b[0m\u001b[1;32m   1554\u001b[0m \u001b[0;34m\u001b[0m\u001b[0m\n\u001b[1;32m   1555\u001b[0m     \u001b[0;32mdef\u001b[0m \u001b[0m_call_impl\u001b[0m\u001b[0;34m(\u001b[0m\u001b[0mself\u001b[0m\u001b[0;34m,\u001b[0m \u001b[0;34m*\u001b[0m\u001b[0margs\u001b[0m\u001b[0;34m,\u001b[0m \u001b[0;34m**\u001b[0m\u001b[0mkwargs\u001b[0m\u001b[0;34m)\u001b[0m\u001b[0;34m:\u001b[0m\u001b[0;34m\u001b[0m\u001b[0;34m\u001b[0m\u001b[0m\n",
            "\u001b[0;32m/usr/local/lib/python3.10/dist-packages/torch/nn/modules/module.py\u001b[0m in \u001b[0;36m_call_impl\u001b[0;34m(self, *args, **kwargs)\u001b[0m\n\u001b[1;32m   1560\u001b[0m                 \u001b[0;32mor\u001b[0m \u001b[0m_global_backward_pre_hooks\u001b[0m \u001b[0;32mor\u001b[0m \u001b[0m_global_backward_hooks\u001b[0m\u001b[0;34m\u001b[0m\u001b[0;34m\u001b[0m\u001b[0m\n\u001b[1;32m   1561\u001b[0m                 or _global_forward_hooks or _global_forward_pre_hooks):\n\u001b[0;32m-> 1562\u001b[0;31m             \u001b[0;32mreturn\u001b[0m \u001b[0mforward_call\u001b[0m\u001b[0;34m(\u001b[0m\u001b[0;34m*\u001b[0m\u001b[0margs\u001b[0m\u001b[0;34m,\u001b[0m \u001b[0;34m**\u001b[0m\u001b[0mkwargs\u001b[0m\u001b[0;34m)\u001b[0m\u001b[0;34m\u001b[0m\u001b[0;34m\u001b[0m\u001b[0m\n\u001b[0m\u001b[1;32m   1563\u001b[0m \u001b[0;34m\u001b[0m\u001b[0m\n\u001b[1;32m   1564\u001b[0m         \u001b[0;32mtry\u001b[0m\u001b[0;34m:\u001b[0m\u001b[0;34m\u001b[0m\u001b[0;34m\u001b[0m\u001b[0m\n",
            "\u001b[0;32m/usr/local/lib/python3.10/dist-packages/torch/nn/modules/linear.py\u001b[0m in \u001b[0;36mforward\u001b[0;34m(self, input)\u001b[0m\n\u001b[1;32m    115\u001b[0m \u001b[0;34m\u001b[0m\u001b[0m\n\u001b[1;32m    116\u001b[0m     \u001b[0;32mdef\u001b[0m \u001b[0mforward\u001b[0m\u001b[0;34m(\u001b[0m\u001b[0mself\u001b[0m\u001b[0;34m,\u001b[0m \u001b[0minput\u001b[0m\u001b[0;34m:\u001b[0m \u001b[0mTensor\u001b[0m\u001b[0;34m)\u001b[0m \u001b[0;34m->\u001b[0m \u001b[0mTensor\u001b[0m\u001b[0;34m:\u001b[0m\u001b[0;34m\u001b[0m\u001b[0;34m\u001b[0m\u001b[0m\n\u001b[0;32m--> 117\u001b[0;31m         \u001b[0;32mreturn\u001b[0m \u001b[0mF\u001b[0m\u001b[0;34m.\u001b[0m\u001b[0mlinear\u001b[0m\u001b[0;34m(\u001b[0m\u001b[0minput\u001b[0m\u001b[0;34m,\u001b[0m \u001b[0mself\u001b[0m\u001b[0;34m.\u001b[0m\u001b[0mweight\u001b[0m\u001b[0;34m,\u001b[0m \u001b[0mself\u001b[0m\u001b[0;34m.\u001b[0m\u001b[0mbias\u001b[0m\u001b[0;34m)\u001b[0m\u001b[0;34m\u001b[0m\u001b[0;34m\u001b[0m\u001b[0m\n\u001b[0m\u001b[1;32m    118\u001b[0m \u001b[0;34m\u001b[0m\u001b[0m\n\u001b[1;32m    119\u001b[0m     \u001b[0;32mdef\u001b[0m \u001b[0mextra_repr\u001b[0m\u001b[0;34m(\u001b[0m\u001b[0mself\u001b[0m\u001b[0;34m)\u001b[0m \u001b[0;34m->\u001b[0m \u001b[0mstr\u001b[0m\u001b[0;34m:\u001b[0m\u001b[0;34m\u001b[0m\u001b[0;34m\u001b[0m\u001b[0m\n",
            "\u001b[0;31mRuntimeError\u001b[0m: mat1 and mat2 must have the same dtype, but got Long and Float"
          ]
        }
      ]
    },
    {
      "source": [
        "import torch\n",
        "from torch import nn\n",
        "\n",
        "x = torch.tensor([1.], dtype=torch.float32) # Changed the type of the tensor to float32\n",
        "model = nn.Linear(1,1)\n",
        "\n",
        "print(model.weight)\n",
        "print(model.bias)\n",
        "\n",
        "y = model(x)\n",
        "print(y)\n",
        "\n",
        "y = x @ model.weight + model.bias\n",
        "print(y)"
      ],
      "cell_type": "code",
      "metadata": {
        "colab": {
          "base_uri": "https://localhost:8080/"
        },
        "id": "Z_Z0ua_R1R4_",
        "outputId": "6f51de0f-61a2-474c-b1c4-b15f880ca15a"
      },
      "execution_count": null,
      "outputs": [
        {
          "output_type": "stream",
          "name": "stdout",
          "text": [
            "Parameter containing:\n",
            "tensor([[0.4479]], requires_grad=True)\n",
            "Parameter containing:\n",
            "tensor([-0.8578], requires_grad=True)\n",
            "tensor([-0.4099], grad_fn=<ViewBackward0>)\n",
            "tensor([-0.4099], grad_fn=<AddBackward0>)\n"
          ]
        }
      ]
    },
    {
      "cell_type": "code",
      "source": [
        "fc1 = nn.Linear(1,3) # fully_connected\n",
        "fc2 = nn.Linear(3,1)\n",
        "\n",
        "print(fc1.weight)\n",
        "print(fc1.bias)\n",
        "print(fc2.weight)\n",
        "print(fc2.bias)"
      ],
      "metadata": {
        "colab": {
          "base_uri": "https://localhost:8080/"
        },
        "id": "fg-t9RWd0R66",
        "outputId": "74e3b28d-253f-45a1-e1af-ecd3dc090983"
      },
      "execution_count": null,
      "outputs": [
        {
          "output_type": "stream",
          "name": "stdout",
          "text": [
            "Parameter containing:\n",
            "tensor([[ 0.5337],\n",
            "        [-0.4234],\n",
            "        [-0.3975]], requires_grad=True)\n",
            "Parameter containing:\n",
            "tensor([ 0.8741, -0.2631, -0.9827], requires_grad=True)\n",
            "Parameter containing:\n",
            "tensor([[ 0.1030,  0.4672, -0.3231]], requires_grad=True)\n",
            "Parameter containing:\n",
            "tensor([-0.2472], requires_grad=True)\n"
          ]
        }
      ]
    },
    {
      "cell_type": "code",
      "source": [
        "print(fc2(fc1(x)))"
      ],
      "metadata": {
        "colab": {
          "base_uri": "https://localhost:8080/"
        },
        "id": "prkXCJRe0kQH",
        "outputId": "87aa1abf-4193-4da4-a1ad-bf875a18b9a4"
      },
      "execution_count": null,
      "outputs": [
        {
          "output_type": "stream",
          "name": "stdout",
          "text": [
            "tensor([0.0230], grad_fn=<ViewBackward0>)\n"
          ]
        }
      ]
    },
    {
      "cell_type": "code",
      "source": [
        "x=torch.tensor([1.])\n",
        "x=fc1(x)\n",
        "print(x)\n",
        "x=fc2(x)\n",
        "print(x)"
      ],
      "metadata": {
        "colab": {
          "base_uri": "https://localhost:8080/"
        },
        "id": "-fV8-Aha2MGH",
        "outputId": "2046c4e6-ae85-4686-fdbb-ba3667d01c55"
      },
      "execution_count": null,
      "outputs": [
        {
          "output_type": "stream",
          "name": "stdout",
          "text": [
            "tensor([ 1.4078, -0.6865, -1.3802], grad_fn=<ViewBackward0>)\n",
            "tensor([0.0230], grad_fn=<ViewBackward0>)\n"
          ]
        }
      ]
    },
    {
      "cell_type": "code",
      "source": [
        "y = (x@fc1.weight.T+fc1.bias)@fc2.weight.T+fc2.bias\n"
      ],
      "metadata": {
        "id": "UZgAdvK72pp2"
      },
      "execution_count": null,
      "outputs": []
    },
    {
      "cell_type": "code",
      "source": [
        "model = nn.Sequential(fc1, fc2) # layer 풀칠\n",
        "# nn.Linear 는 개x채x행x열에서 \"채\" 형태로 (1D data) 들어오길 기대하는 녀석이다.\n",
        "# 즉, 노드 하나가 곧 한 채널의 의미한다.\n",
        "# 따라서, 데이터 여러개를 통과시키고 싶다면 개x채 의 형태로 줘야 함\n",
        "# why T? weight도 개x채 형태로 만들기 위함!\n",
        "# 일단, weight shape 개x채에서 채는 무조건 앞에 거 채널 개수와 맞추셈!\n",
        "# 예를 들면 nn.Linear(2,3)\n",
        "# 두 채널 값을 가지고 3x2 행렬을 만드는 것\n"
      ],
      "metadata": {
        "id": "9wRXw_WG33v0"
      },
      "execution_count": null,
      "outputs": []
    },
    {
      "cell_type": "code",
      "source": [
        "fc1 = nn.Linear(1,3)\n",
        "fc2 = nn.Linear(3,1)\n",
        "\n",
        "x=torch.tensor([1.])\n",
        "x=fc1(x)\n",
        "print(x)\n",
        "x=fc2(x)\n",
        "print(x)\n",
        "\n",
        "model = nn.Sequential(fc1, fc2) # layer 풀칠\n",
        "x=torch.tensor([1.])\n",
        "print(model(x))"
      ],
      "metadata": {
        "colab": {
          "base_uri": "https://localhost:8080/"
        },
        "id": "Ja2ybdEn7O3M",
        "outputId": "a697a183-cba1-427e-ea85-56c00819b8c5"
      },
      "execution_count": null,
      "outputs": [
        {
          "output_type": "stream",
          "name": "stdout",
          "text": [
            "tensor([-1.2947,  0.4005, -1.0174], grad_fn=<ViewBackward0>)\n",
            "tensor([-1.1130], grad_fn=<ViewBackward0>)\n",
            "tensor([-1.1130], grad_fn=<ViewBackward0>)\n"
          ]
        }
      ]
    },
    {
      "cell_type": "code",
      "source": [
        "model = nn.Sequential(nn.Linear(2,5),\n",
        "                      nn.Linear(5,10),\n",
        "                      nn.Linear(10,3))\n",
        "\n",
        "x = torch.randn(2)\n",
        "print(x)\n",
        "print(model(x))\n",
        "\n",
        "x = torch.randn(1,2)\n",
        "print(x)\n",
        "print(model(x))\n",
        "\n",
        "x = torch.randn(5,2) # 개x채 => 두 개의 채널 값(키, 몸무게)을 가지는 데이터(사람) 5개를 통과시킴\n",
        "print(x)\n",
        "print(model(x))\n",
        "\n",
        "x = torch.randn(2,3,1,4,5,2)\n",
        "print(model(x).shape)\n",
        "print(model(x))"
      ],
      "metadata": {
        "colab": {
          "base_uri": "https://localhost:8080/"
        },
        "id": "laTNqh4Y8ZTN",
        "outputId": "d9e07dd9-001e-4e42-d111-478d87e7d866"
      },
      "execution_count": null,
      "outputs": [
        {
          "output_type": "stream",
          "name": "stdout",
          "text": [
            "tensor([0.8427, 0.2839])\n",
            "tensor([ 0.4684, -0.1107,  0.2032], grad_fn=<ViewBackward0>)\n",
            "tensor([[ 0.9210, -1.5977]])\n",
            "tensor([[0.0956, 0.3071, 0.0486]], grad_fn=<AddmmBackward0>)\n",
            "tensor([[-1.2832e+00, -1.8611e-04],\n",
            "        [-7.1820e-01, -5.3828e-01],\n",
            "        [-9.4983e-01,  9.1838e-01],\n",
            "        [ 4.5923e-02, -5.4395e-01],\n",
            "        [-1.9974e+00, -2.6819e-01]])\n",
            "tensor([[ 0.8112, -0.4720,  0.0501],\n",
            "        [ 0.6033, -0.2448,  0.0389],\n",
            "        [ 0.9238, -0.6022,  0.1482],\n",
            "        [ 0.4595, -0.0919,  0.0848],\n",
            "        [ 0.8935, -0.5565, -0.0159]], grad_fn=<AddmmBackward0>)\n",
            "torch.Size([2, 3, 1, 4, 5, 3])\n",
            "tensor([[[[[[ 7.9196e-01, -4.6285e-01,  2.0237e-01],\n",
            "            [ 4.9571e-01, -1.3894e-01,  1.8412e-01],\n",
            "            [ 6.3979e-01, -2.7690e-01, -6.0344e-02],\n",
            "            [ 5.8638e-01, -2.2254e-01, -1.1441e-02],\n",
            "            [ 5.0219e-01, -1.4827e-01,  2.1339e-01]],\n",
            "\n",
            "           [[ 5.1490e-01, -1.4193e-01, -4.7636e-02],\n",
            "            [ 4.7109e-01, -9.6544e-02, -1.7775e-02],\n",
            "            [ 5.3999e-01, -1.8470e-01,  1.5237e-01],\n",
            "            [ 1.0028e+00, -7.0010e-01,  3.0241e-01],\n",
            "            [ 2.5763e-01,  1.3785e-01, -4.3978e-02]],\n",
            "\n",
            "           [[ 7.1766e-01, -3.8007e-01,  1.7769e-01],\n",
            "            [ 3.2063e-01,  4.8498e-02,  2.2481e-01],\n",
            "            [ 6.5813e-01, -3.0930e-01,  1.0063e-01],\n",
            "            [ 9.8890e-01, -6.7163e-01,  1.2980e-01],\n",
            "            [ 8.3391e-01, -5.1462e-01,  2.8128e-01]],\n",
            "\n",
            "           [[ 8.6747e-01, -5.3658e-01,  9.2599e-02],\n",
            "            [ 8.5288e-01, -5.3037e-01,  2.1780e-01],\n",
            "            [ 3.5288e-01,  1.9984e-02,  1.3957e-01],\n",
            "            [ 4.1909e-01, -4.0671e-02, -8.3360e-03],\n",
            "            [ 9.4168e-01, -6.1702e-01,  8.8204e-02]]]],\n",
            "\n",
            "\n",
            "\n",
            "         [[[[ 1.1772e+00, -8.7829e-01,  1.5085e-01],\n",
            "            [ 1.0470e+00, -7.3299e-01,  1.0486e-01],\n",
            "            [ 3.3665e-01,  3.5096e-02,  1.7254e-01],\n",
            "            [ 4.6552e-01, -1.1130e-01,  2.5169e-01],\n",
            "            [ 2.6060e-01,  1.2177e-01,  1.2226e-01]],\n",
            "\n",
            "           [[ 5.0686e-01, -1.4210e-01,  6.7949e-02],\n",
            "            [ 4.6753e-01, -1.0245e-01,  1.0870e-01],\n",
            "            [ 4.7860e-01, -1.2367e-01,  2.2741e-01],\n",
            "            [ 4.2724e-01, -6.8599e-02,  2.3841e-01],\n",
            "            [ 6.9871e-01, -3.5022e-01,  5.8409e-02]],\n",
            "\n",
            "           [[ 7.9695e-01, -4.6870e-01,  2.0773e-01],\n",
            "            [ 3.8998e-01, -8.0125e-03, -2.0835e-02],\n",
            "            [ 1.3155e+00, -1.0118e+00, -6.9245e-02],\n",
            "            [ 2.0098e-01,  1.9744e-01, -1.7152e-02],\n",
            "            [ 3.5000e-01,  2.2034e-02,  1.5351e-01]],\n",
            "\n",
            "           [[ 3.8760e-01, -1.0790e-02,  4.8567e-02],\n",
            "            [ 7.1505e-01, -3.7658e-01,  1.6933e-01],\n",
            "            [ 4.8246e-01, -1.1866e-01,  1.0822e-01],\n",
            "            [ 1.1398e+00, -8.4710e-01,  2.7431e-01],\n",
            "            [ 4.6355e-01, -1.0014e-01,  1.3490e-01]]]],\n",
            "\n",
            "\n",
            "\n",
            "         [[[[ 8.3116e-01, -4.9527e-01,  6.9605e-02],\n",
            "            [ 3.5572e-01,  1.3854e-02,  1.7884e-01],\n",
            "            [ 7.6404e-01, -4.2497e-01,  1.0547e-01],\n",
            "            [ 2.0124e-01,  1.8967e-01,  7.9710e-02],\n",
            "            [ 5.6938e-01, -2.1815e-01,  1.7125e-01]],\n",
            "\n",
            "           [[ 5.5250e-01, -2.0645e-01,  2.5771e-01],\n",
            "            [ 1.0565e+00, -7.5523e-01,  2.5882e-01],\n",
            "            [ 8.7412e-01, -5.5927e-01,  2.9268e-01],\n",
            "            [ 5.5900e-01, -1.9685e-01,  4.1866e-02],\n",
            "            [ 4.9718e-01, -1.3322e-01,  8.9235e-02]],\n",
            "\n",
            "           [[ 7.5101e-01, -4.2060e-01,  2.3238e-01],\n",
            "            [ 5.6551e-01, -2.0219e-01,  1.9206e-02],\n",
            "            [ 7.4399e-01, -4.0040e-01,  6.9943e-02],\n",
            "            [ 6.0536e-01, -2.5671e-01,  1.6335e-01],\n",
            "            [ 4.7849e-01, -1.1263e-01,  8.6018e-02]],\n",
            "\n",
            "           [[ 1.6304e-01,  2.3786e-01, -5.7371e-03],\n",
            "            [ 1.8852e-01,  1.9970e-01,  1.2930e-01],\n",
            "            [ 7.3457e-01, -3.8559e-01,  1.0928e-02],\n",
            "            [ 5.3721e-01, -1.8116e-01,  1.4567e-01],\n",
            "            [ 3.4953e-01,  2.2782e-02,  1.5049e-01]]]]],\n",
            "\n",
            "\n",
            "\n",
            "\n",
            "        [[[[[ 6.1542e-01, -2.4377e-01, -1.4591e-01],\n",
            "            [ 3.7511e-01, -1.6479e-02,  2.9825e-01],\n",
            "            [ 7.2307e-02,  3.3366e-01,  3.2831e-02],\n",
            "            [ 5.0281e-01, -1.4146e-01,  1.1655e-01],\n",
            "            [ 3.3416e-01,  5.6048e-02, -6.3532e-02]],\n",
            "\n",
            "           [[ 4.7591e-01, -1.2572e-01,  2.9187e-01],\n",
            "            [-1.8662e-02,  4.3760e-01, -3.0719e-02],\n",
            "            [ 8.7301e-01, -5.3632e-01,  1.1236e-02],\n",
            "            [ 6.5949e-01, -2.9844e-01, -5.9099e-02],\n",
            "            [ 7.9861e-01, -4.6458e-01,  1.3098e-01]],\n",
            "\n",
            "           [[ 4.9283e-01, -1.3262e-01,  1.4282e-01],\n",
            "            [ 5.4433e-01, -1.8036e-01,  3.4984e-02],\n",
            "            [ 5.1640e-01, -1.6075e-01,  1.7468e-01],\n",
            "            [ 5.8028e-01, -2.3081e-01,  1.8157e-01],\n",
            "            [ 6.1068e-01, -2.5654e-01,  8.6308e-02]],\n",
            "\n",
            "           [[ 4.7066e-01, -1.1723e-01,  2.5590e-01],\n",
            "            [ 7.3050e-01, -3.8518e-01,  6.2930e-02],\n",
            "            [ 3.7801e-02,  3.7387e-01, -1.4133e-03],\n",
            "            [ 3.8116e-01, -1.0894e-02,  1.4076e-01],\n",
            "            [ 4.4200e-01, -7.3584e-02,  9.4918e-02]]]],\n",
            "\n",
            "\n",
            "\n",
            "         [[[[ 9.1323e-01, -5.7527e-01, -5.1331e-02],\n",
            "            [ 1.0033e+00, -6.9528e-01,  2.3267e-01],\n",
            "            [ 2.4823e-01,  1.4007e-01,  5.9686e-02],\n",
            "            [ 8.0289e-01, -4.6633e-01,  9.3245e-02],\n",
            "            [ 6.9444e-01, -3.4730e-01,  8.0810e-02]],\n",
            "\n",
            "           [[ 2.8668e-01,  8.4873e-02,  2.3240e-01],\n",
            "            [ 4.3833e-01, -7.1312e-02,  1.1722e-01],\n",
            "            [ 8.4957e-01, -5.2039e-01,  1.3535e-01],\n",
            "            [ 5.6941e-01, -2.1088e-01,  7.6765e-02],\n",
            "            [ 4.4720e-01, -8.1386e-02,  1.2256e-01]],\n",
            "\n",
            "           [[ 6.0378e-01, -2.5024e-01,  1.0191e-01],\n",
            "            [ 3.7115e-01, -9.6571e-03,  2.6575e-01],\n",
            "            [ 8.8812e-01, -5.5404e-01,  2.7600e-02],\n",
            "            [ 5.6852e-01, -2.2362e-01,  2.5417e-01],\n",
            "            [ 4.3066e-01, -6.5113e-02,  1.4496e-01]],\n",
            "\n",
            "           [[ 4.5839e-01, -9.1807e-02,  9.9851e-02],\n",
            "            [ 4.0938e-01, -4.5010e-02,  1.8463e-01],\n",
            "            [ 8.2388e-01, -4.9797e-01,  2.0712e-01],\n",
            "            [ 5.1396e-01, -1.3628e-01, -1.0757e-01],\n",
            "            [ 7.6704e-01, -4.2697e-01,  8.9038e-02]]]],\n",
            "\n",
            "\n",
            "\n",
            "         [[[[ 4.5631e-01, -1.0838e-01,  3.4373e-01],\n",
            "            [ 2.7993e-01,  1.0186e-01,  1.0771e-01],\n",
            "            [ 2.3688e-01,  1.6615e-01, -1.1798e-01],\n",
            "            [ 6.6061e-01, -3.1520e-01,  1.4195e-01],\n",
            "            [ 5.4623e-01, -1.8263e-01,  3.7752e-02]],\n",
            "\n",
            "           [[ 4.4444e-01, -8.9728e-02,  2.6949e-01],\n",
            "            [ 5.5474e-01, -2.0374e-01,  1.9103e-01],\n",
            "            [ 7.5990e-01, -4.2229e-01,  1.2905e-01],\n",
            "            [ 4.5736e-01, -9.2486e-02,  1.2306e-01],\n",
            "            [ 7.2571e-01, -3.7034e-01, -6.1602e-02]],\n",
            "\n",
            "           [[ 1.0520e+00, -7.3855e-01,  1.0627e-01],\n",
            "            [ 6.0985e-01, -2.7291e-01,  3.0985e-01],\n",
            "            [ 5.4092e-01, -1.8690e-01,  1.6788e-01],\n",
            "            [ 5.2281e-01, -1.7114e-01,  2.1901e-01],\n",
            "            [ 6.8500e-01, -3.3518e-01,  5.7033e-02]],\n",
            "\n",
            "           [[ 3.6725e-01,  1.2000e-03,  1.8018e-01],\n",
            "            [ 2.6217e-01,  1.2560e-01,  5.0574e-02],\n",
            "            [ 6.3590e-01, -2.7553e-01, -2.3389e-02],\n",
            "            [ 7.3594e-01, -3.8352e-01, -3.5237e-02],\n",
            "            [ 6.8674e-02,  3.2593e-01,  1.8412e-01]]]]]],\n",
            "       grad_fn=<ViewBackward0>)\n"
          ]
        }
      ]
    },
    {
      "cell_type": "code",
      "source": [
        "class MyModel(nn.Module):\n",
        "    def __init__(self):\n",
        "        super().__init__()\n",
        "\n",
        "        self.fc1 = nn.Linear(2, 5)\n",
        "        self.fc2 = nn.Linear(5, 10)\n",
        "        self.fc3 = nn.Linear(10, 3)\n",
        "        self.sig1 = nn.Sigmoid()\n",
        "        self.sig2 = nn.Sigmoid()\n",
        "        self.sig3 = nn.Sigmoid()\n",
        "\n",
        "    def forward(self, x):\n",
        "        x = self.fc1(x)\n",
        "        x = self.sig1(x)\n",
        "        x = self.fc2(x)\n",
        "        x = self.sig2(x)\n",
        "        x = self.fc3(x)\n",
        "        x = self.sig3(x)\n",
        "        return x\n",
        "\n",
        "model = MyModel()\n",
        "x = torch.randn(5,2)\n",
        "y = model(x)\n",
        "print(y)"
      ],
      "metadata": {
        "colab": {
          "base_uri": "https://localhost:8080/"
        },
        "id": "QQsedI0d-Gmc",
        "outputId": "a630f963-a12d-4aa4-f066-2306d5a8f560"
      },
      "execution_count": null,
      "outputs": [
        {
          "output_type": "stream",
          "name": "stdout",
          "text": [
            "tensor([[[0.4564, 0.5731, 0.4785],\n",
            "         [0.4603, 0.5744, 0.4716],\n",
            "         [0.4595, 0.5712, 0.4732],\n",
            "         [0.4564, 0.5712, 0.4789],\n",
            "         [0.4593, 0.5722, 0.4738]],\n",
            "\n",
            "        [[0.4595, 0.5722, 0.4733],\n",
            "         [0.4574, 0.5720, 0.4773],\n",
            "         [0.4583, 0.5742, 0.4754],\n",
            "         [0.4621, 0.5746, 0.4673],\n",
            "         [0.4559, 0.5733, 0.4789]]], grad_fn=<SigmoidBackward0>)\n"
          ]
        }
      ]
    },
    {
      "cell_type": "code",
      "source": [
        "print(model)"
      ],
      "metadata": {
        "colab": {
          "base_uri": "https://localhost:8080/"
        },
        "id": "ujQw54fCAALA",
        "outputId": "7cd04de5-3825-4b03-83aa-1fcc3d7bc311"
      },
      "execution_count": null,
      "outputs": [
        {
          "output_type": "stream",
          "name": "stdout",
          "text": [
            "MyModel(\n",
            "  (fc1): Linear(in_features=2, out_features=5, bias=True)\n",
            "  (fc2): Linear(in_features=5, out_features=10, bias=True)\n",
            "  (fc3): Linear(in_features=10, out_features=3, bias=True)\n",
            "  (sig1): Sigmoid()\n",
            "  (sig2): Sigmoid()\n",
            "  (sig3): Sigmoid()\n",
            ")\n"
          ]
        }
      ]
    },
    {
      "cell_type": "code",
      "source": [
        "class MyModel2(nn.Module):\n",
        "    def __init__(self):\n",
        "        super().__init__()\n",
        "\n",
        "        self.Linear = nn.Sequential(\n",
        "        nn.Linear(2, 5),\n",
        "        nn.Sigmoid(),\n",
        "        nn.Linear(5, 10),\n",
        "        nn.Sigmoid(),\n",
        "        nn.Linear(10, 3),\n",
        "        nn.Sigmoid())\n",
        "\n",
        "    def forward(self, x):\n",
        "        x = self.Linear(x)\n",
        "        return x\n",
        "\n",
        "model2 = MyModel2()\n",
        "x = torch.randn(5,2)\n",
        "y = model(x)\n",
        "print(y)"
      ],
      "metadata": {
        "colab": {
          "base_uri": "https://localhost:8080/"
        },
        "id": "AsMkOqyAAB4e",
        "outputId": "1b1b27d0-95fe-49d5-e387-ddd92eed5126"
      },
      "execution_count": null,
      "outputs": [
        {
          "output_type": "stream",
          "name": "stdout",
          "text": [
            "tensor([[0.4963, 0.3948, 0.5813],\n",
            "        [0.4945, 0.4005, 0.5815],\n",
            "        [0.4953, 0.4000, 0.5810],\n",
            "        [0.4961, 0.3919, 0.5822],\n",
            "        [0.4972, 0.3941, 0.5806]], grad_fn=<SigmoidBackward0>)\n"
          ]
        }
      ]
    },
    {
      "source": [
        "print(model2)\n",
        "print(model2.Linear[0].weight) # Changed model2.linear to model2.Linear\n",
        "print(model2.Linear[2].weight)"
      ],
      "cell_type": "code",
      "metadata": {
        "colab": {
          "base_uri": "https://localhost:8080/"
        },
        "id": "Yvp9PF0RD8Jd",
        "outputId": "e5a829e8-4421-4a3d-9f0a-efe37bd06ec6"
      },
      "execution_count": null,
      "outputs": [
        {
          "output_type": "stream",
          "name": "stdout",
          "text": [
            "MyModel2(\n",
            "  (Linear): Sequential(\n",
            "    (0): Linear(in_features=2, out_features=5, bias=True)\n",
            "    (1): Sigmoid()\n",
            "    (2): Linear(in_features=5, out_features=10, bias=True)\n",
            "    (3): Sigmoid()\n",
            "    (4): Linear(in_features=10, out_features=3, bias=True)\n",
            "    (5): Sigmoid()\n",
            "  )\n",
            ")\n",
            "Parameter containing:\n",
            "tensor([[-0.2379,  0.1382],\n",
            "        [ 0.4098,  0.4831],\n",
            "        [-0.3914, -0.5309],\n",
            "        [ 0.3696, -0.6343],\n",
            "        [ 0.2328, -0.1720]], requires_grad=True)\n",
            "Parameter containing:\n",
            "tensor([[ 0.4387,  0.3209, -0.0616,  0.1493,  0.0224],\n",
            "        [ 0.0137,  0.0289,  0.3020, -0.1678,  0.4375],\n",
            "        [-0.1399,  0.3113, -0.0244,  0.4124,  0.2193],\n",
            "        [-0.2623,  0.2744,  0.0839,  0.1042,  0.0991],\n",
            "        [-0.2210, -0.0452,  0.3158, -0.0827,  0.2366],\n",
            "        [ 0.1184,  0.3254, -0.2769, -0.4382, -0.0543],\n",
            "        [ 0.3220, -0.4170, -0.2935, -0.0714,  0.1373],\n",
            "        [ 0.2927,  0.2617, -0.1828, -0.0158, -0.4125],\n",
            "        [-0.0784,  0.2187,  0.3485,  0.0446, -0.3766],\n",
            "        [-0.2536,  0.2405, -0.2437, -0.2163,  0.4366]], requires_grad=True)\n"
          ]
        }
      ]
    },
    {
      "cell_type": "code",
      "source": [
        "list(model.parameters())"
      ],
      "metadata": {
        "colab": {
          "base_uri": "https://localhost:8080/"
        },
        "id": "LBfLtbI7DmRR",
        "outputId": "b1544960-86ec-4e99-8d07-4c0c2e4a12b7"
      },
      "execution_count": null,
      "outputs": [
        {
          "output_type": "execute_result",
          "data": {
            "text/plain": [
              "[Parameter containing:\n",
              " tensor([[ 0.3980,  0.6362],\n",
              "         [ 0.3623, -0.4896],\n",
              "         [ 0.5912,  0.2456],\n",
              "         [ 0.7037, -0.2521],\n",
              "         [ 0.6883,  0.3070]], requires_grad=True),\n",
              " Parameter containing:\n",
              " tensor([-0.5189, -0.6636,  0.1321,  0.5189, -0.0417], requires_grad=True),\n",
              " Parameter containing:\n",
              " tensor([[ 0.0135,  0.0479,  0.3257,  0.0403,  0.2012],\n",
              "         [ 0.2035, -0.3324, -0.4004, -0.3103, -0.2207],\n",
              "         [ 0.1305, -0.1503, -0.1710,  0.2792,  0.2869],\n",
              "         [ 0.3532,  0.4307, -0.0961, -0.0043,  0.1860],\n",
              "         [-0.1828,  0.3844,  0.1667, -0.2531, -0.4349],\n",
              "         [-0.0120, -0.0377,  0.3462, -0.2693,  0.0951],\n",
              "         [ 0.3326,  0.4104,  0.3932, -0.1266,  0.2379],\n",
              "         [-0.4436, -0.0428, -0.2446, -0.3337,  0.4301],\n",
              "         [ 0.0316, -0.1555,  0.3103, -0.1754, -0.4277],\n",
              "         [ 0.3260, -0.1892, -0.2858,  0.3148,  0.1931]], requires_grad=True),\n",
              " Parameter containing:\n",
              " tensor([-0.3751,  0.1493,  0.4357, -0.0169, -0.1665,  0.0388,  0.2330, -0.2869,\n",
              "          0.3054, -0.1209], requires_grad=True),\n",
              " Parameter containing:\n",
              " tensor([[-0.1690,  0.1626, -0.0109,  0.0313, -0.2049, -0.3054,  0.1351,  0.2243,\n",
              "          -0.1217,  0.2062],\n",
              "         [-0.1117, -0.2742, -0.3155, -0.1809,  0.1273,  0.1501,  0.2694, -0.2764,\n",
              "          -0.2975,  0.2228],\n",
              "         [-0.0545, -0.0171,  0.1356,  0.0794,  0.1802, -0.1168,  0.0135,  0.1182,\n",
              "           0.1327,  0.0938]], requires_grad=True),\n",
              " Parameter containing:\n",
              " tensor([ 0.0171, -0.1242,  0.0471], requires_grad=True)]"
            ]
          },
          "metadata": {},
          "execution_count": 31
        }
      ]
    },
    {
      "cell_type": "code",
      "source": [
        "# 파라미터 수 구하기\n",
        "num = sum([p.numel() for p in model.parameters() if p.requires_grad])\n",
        "print(num)"
      ],
      "metadata": {
        "colab": {
          "base_uri": "https://localhost:8080/"
        },
        "id": "MWRT9DmXDm5v",
        "outputId": "866fc6c8-e653-41db-fd7b-38a88f842e98"
      },
      "execution_count": null,
      "outputs": [
        {
          "output_type": "stream",
          "name": "stdout",
          "text": [
            "108\n"
          ]
        }
      ]
    },
    {
      "cell_type": "code",
      "source": [],
      "metadata": {
        "id": "EKIyqpKbDoF0"
      },
      "execution_count": null,
      "outputs": []
    },
    {
      "cell_type": "code",
      "source": [],
      "metadata": {
        "id": "sPTTdDuHDoIU"
      },
      "execution_count": null,
      "outputs": []
    },
    {
      "cell_type": "code",
      "source": [],
      "metadata": {
        "id": "_i8Y099eDoK8"
      },
      "execution_count": null,
      "outputs": []
    },
    {
      "cell_type": "code",
      "source": [],
      "metadata": {
        "id": "0FHj6dfVDoNe"
      },
      "execution_count": null,
      "outputs": []
    },
    {
      "cell_type": "code",
      "source": [],
      "metadata": {
        "id": "ZxuQQq3HDoP0"
      },
      "execution_count": null,
      "outputs": []
    },
    {
      "cell_type": "code",
      "source": [],
      "metadata": {
        "id": "uJzHWvPiDoSS"
      },
      "execution_count": null,
      "outputs": []
    },
    {
      "cell_type": "code",
      "source": [],
      "metadata": {
        "id": "ggiUsWVgDoU6"
      },
      "execution_count": null,
      "outputs": []
    },
    {
      "cell_type": "code",
      "source": [],
      "metadata": {
        "id": "RQg3D8PbDoXF"
      },
      "execution_count": null,
      "outputs": []
    },
    {
      "cell_type": "code",
      "source": [],
      "metadata": {
        "id": "sbbp0Lm2DoZq"
      },
      "execution_count": null,
      "outputs": []
    },
    {
      "cell_type": "code",
      "source": [],
      "metadata": {
        "id": "xtgmPqvkDobz"
      },
      "execution_count": null,
      "outputs": []
    },
    {
      "cell_type": "code",
      "source": [],
      "metadata": {
        "id": "Q6sf82MEDoeV"
      },
      "execution_count": null,
      "outputs": []
    }
  ]
}